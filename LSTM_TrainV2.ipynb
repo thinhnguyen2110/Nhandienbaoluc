{
  "nbformat": 4,
  "nbformat_minor": 0,
  "metadata": {
    "colab": {
      "name": "LSTM_TrainV2.ipynb",
      "provenance": [],
      "collapsed_sections": []
    },
    "kernelspec": {
      "name": "python3",
      "display_name": "Python 3"
    },
    "accelerator": "GPU"
  },
  "cells": [
    {
      "cell_type": "code",
      "metadata": {
        "id": "8kgO2CYF-x99",
        "outputId": "5b30a474-bf21-43d3-da94-c6a244061a7c",
        "colab": {
          "base_uri": "https://localhost:8080/"
        }
      },
      "source": [
        "!pip install tensorflow-gpu"
      ],
      "execution_count": null,
      "outputs": [
        {
          "output_type": "stream",
          "text": [
            "Collecting tensorflow-gpu\n",
            "\u001b[?25l  Downloading https://files.pythonhosted.org/packages/18/99/ac32fd13d56e40d4c3e6150030132519997c0bb1f06f448d970e81b177e5/tensorflow_gpu-2.3.1-cp36-cp36m-manylinux2010_x86_64.whl (320.4MB)\n",
            "\u001b[K     |████████████████████████████████| 320.4MB 50kB/s \n",
            "\u001b[?25hRequirement already satisfied: absl-py>=0.7.0 in /usr/local/lib/python3.6/dist-packages (from tensorflow-gpu) (0.10.0)\n",
            "Requirement already satisfied: tensorflow-estimator<2.4.0,>=2.3.0 in /usr/local/lib/python3.6/dist-packages (from tensorflow-gpu) (2.3.0)\n",
            "Requirement already satisfied: grpcio>=1.8.6 in /usr/local/lib/python3.6/dist-packages (from tensorflow-gpu) (1.33.1)\n",
            "Requirement already satisfied: astunparse==1.6.3 in /usr/local/lib/python3.6/dist-packages (from tensorflow-gpu) (1.6.3)\n",
            "Requirement already satisfied: termcolor>=1.1.0 in /usr/local/lib/python3.6/dist-packages (from tensorflow-gpu) (1.1.0)\n",
            "Requirement already satisfied: keras-preprocessing<1.2,>=1.1.1 in /usr/local/lib/python3.6/dist-packages (from tensorflow-gpu) (1.1.2)\n",
            "Requirement already satisfied: numpy<1.19.0,>=1.16.0 in /usr/local/lib/python3.6/dist-packages (from tensorflow-gpu) (1.18.5)\n",
            "Requirement already satisfied: google-pasta>=0.1.8 in /usr/local/lib/python3.6/dist-packages (from tensorflow-gpu) (0.2.0)\n",
            "Requirement already satisfied: tensorboard<3,>=2.3.0 in /usr/local/lib/python3.6/dist-packages (from tensorflow-gpu) (2.3.0)\n",
            "Requirement already satisfied: wheel>=0.26 in /usr/local/lib/python3.6/dist-packages (from tensorflow-gpu) (0.35.1)\n",
            "Requirement already satisfied: protobuf>=3.9.2 in /usr/local/lib/python3.6/dist-packages (from tensorflow-gpu) (3.12.4)\n",
            "Requirement already satisfied: six>=1.12.0 in /usr/local/lib/python3.6/dist-packages (from tensorflow-gpu) (1.15.0)\n",
            "Requirement already satisfied: h5py<2.11.0,>=2.10.0 in /usr/local/lib/python3.6/dist-packages (from tensorflow-gpu) (2.10.0)\n",
            "Requirement already satisfied: wrapt>=1.11.1 in /usr/local/lib/python3.6/dist-packages (from tensorflow-gpu) (1.12.1)\n",
            "Requirement already satisfied: opt-einsum>=2.3.2 in /usr/local/lib/python3.6/dist-packages (from tensorflow-gpu) (3.3.0)\n",
            "Requirement already satisfied: gast==0.3.3 in /usr/local/lib/python3.6/dist-packages (from tensorflow-gpu) (0.3.3)\n",
            "Requirement already satisfied: markdown>=2.6.8 in /usr/local/lib/python3.6/dist-packages (from tensorboard<3,>=2.3.0->tensorflow-gpu) (3.3.2)\n",
            "Requirement already satisfied: google-auth-oauthlib<0.5,>=0.4.1 in /usr/local/lib/python3.6/dist-packages (from tensorboard<3,>=2.3.0->tensorflow-gpu) (0.4.1)\n",
            "Requirement already satisfied: requests<3,>=2.21.0 in /usr/local/lib/python3.6/dist-packages (from tensorboard<3,>=2.3.0->tensorflow-gpu) (2.23.0)\n",
            "Requirement already satisfied: google-auth<2,>=1.6.3 in /usr/local/lib/python3.6/dist-packages (from tensorboard<3,>=2.3.0->tensorflow-gpu) (1.17.2)\n",
            "Requirement already satisfied: tensorboard-plugin-wit>=1.6.0 in /usr/local/lib/python3.6/dist-packages (from tensorboard<3,>=2.3.0->tensorflow-gpu) (1.7.0)\n",
            "Requirement already satisfied: werkzeug>=0.11.15 in /usr/local/lib/python3.6/dist-packages (from tensorboard<3,>=2.3.0->tensorflow-gpu) (1.0.1)\n",
            "Requirement already satisfied: setuptools>=41.0.0 in /usr/local/lib/python3.6/dist-packages (from tensorboard<3,>=2.3.0->tensorflow-gpu) (50.3.2)\n",
            "Requirement already satisfied: importlib-metadata; python_version < \"3.8\" in /usr/local/lib/python3.6/dist-packages (from markdown>=2.6.8->tensorboard<3,>=2.3.0->tensorflow-gpu) (2.0.0)\n",
            "Requirement already satisfied: requests-oauthlib>=0.7.0 in /usr/local/lib/python3.6/dist-packages (from google-auth-oauthlib<0.5,>=0.4.1->tensorboard<3,>=2.3.0->tensorflow-gpu) (1.3.0)\n",
            "Requirement already satisfied: idna<3,>=2.5 in /usr/local/lib/python3.6/dist-packages (from requests<3,>=2.21.0->tensorboard<3,>=2.3.0->tensorflow-gpu) (2.10)\n",
            "Requirement already satisfied: certifi>=2017.4.17 in /usr/local/lib/python3.6/dist-packages (from requests<3,>=2.21.0->tensorboard<3,>=2.3.0->tensorflow-gpu) (2020.6.20)\n",
            "Requirement already satisfied: chardet<4,>=3.0.2 in /usr/local/lib/python3.6/dist-packages (from requests<3,>=2.21.0->tensorboard<3,>=2.3.0->tensorflow-gpu) (3.0.4)\n",
            "Requirement already satisfied: urllib3!=1.25.0,!=1.25.1,<1.26,>=1.21.1 in /usr/local/lib/python3.6/dist-packages (from requests<3,>=2.21.0->tensorboard<3,>=2.3.0->tensorflow-gpu) (1.24.3)\n",
            "Requirement already satisfied: rsa<5,>=3.1.4; python_version >= \"3\" in /usr/local/lib/python3.6/dist-packages (from google-auth<2,>=1.6.3->tensorboard<3,>=2.3.0->tensorflow-gpu) (4.6)\n",
            "Requirement already satisfied: pyasn1-modules>=0.2.1 in /usr/local/lib/python3.6/dist-packages (from google-auth<2,>=1.6.3->tensorboard<3,>=2.3.0->tensorflow-gpu) (0.2.8)\n",
            "Requirement already satisfied: cachetools<5.0,>=2.0.0 in /usr/local/lib/python3.6/dist-packages (from google-auth<2,>=1.6.3->tensorboard<3,>=2.3.0->tensorflow-gpu) (4.1.1)\n",
            "Requirement already satisfied: zipp>=0.5 in /usr/local/lib/python3.6/dist-packages (from importlib-metadata; python_version < \"3.8\"->markdown>=2.6.8->tensorboard<3,>=2.3.0->tensorflow-gpu) (3.3.1)\n",
            "Requirement already satisfied: oauthlib>=3.0.0 in /usr/local/lib/python3.6/dist-packages (from requests-oauthlib>=0.7.0->google-auth-oauthlib<0.5,>=0.4.1->tensorboard<3,>=2.3.0->tensorflow-gpu) (3.1.0)\n",
            "Requirement already satisfied: pyasn1>=0.1.3 in /usr/local/lib/python3.6/dist-packages (from rsa<5,>=3.1.4; python_version >= \"3\"->google-auth<2,>=1.6.3->tensorboard<3,>=2.3.0->tensorflow-gpu) (0.4.8)\n",
            "Installing collected packages: tensorflow-gpu\n",
            "Successfully installed tensorflow-gpu-2.3.1\n"
          ],
          "name": "stdout"
        }
      ]
    },
    {
      "cell_type": "code",
      "metadata": {
        "id": "g7qWRHv__S4p",
        "outputId": "0d74ce31-9ba3-4281-bd19-3f6130c60fd3",
        "colab": {
          "base_uri": "https://localhost:8080/"
        }
      },
      "source": [
        "!nvidia-smi"
      ],
      "execution_count": null,
      "outputs": [
        {
          "output_type": "stream",
          "text": [
            "Fri Oct 30 13:18:23 2020       \n",
            "+-----------------------------------------------------------------------------+\n",
            "| NVIDIA-SMI 455.32.00    Driver Version: 418.67       CUDA Version: 10.1     |\n",
            "|-------------------------------+----------------------+----------------------+\n",
            "| GPU  Name        Persistence-M| Bus-Id        Disp.A | Volatile Uncorr. ECC |\n",
            "| Fan  Temp  Perf  Pwr:Usage/Cap|         Memory-Usage | GPU-Util  Compute M. |\n",
            "|                               |                      |               MIG M. |\n",
            "|===============================+======================+======================|\n",
            "|   0  Tesla T4            Off  | 00000000:00:04.0 Off |                    0 |\n",
            "| N/A   43C    P8     9W /  70W |      0MiB / 15079MiB |      0%      Default |\n",
            "|                               |                      |                 ERR! |\n",
            "+-------------------------------+----------------------+----------------------+\n",
            "                                                                               \n",
            "+-----------------------------------------------------------------------------+\n",
            "| Processes:                                                                  |\n",
            "|  GPU   GI   CI        PID   Type   Process name                  GPU Memory |\n",
            "|        ID   ID                                                   Usage      |\n",
            "|=============================================================================|\n",
            "|  No running processes found                                                 |\n",
            "+-----------------------------------------------------------------------------+\n"
          ],
          "name": "stdout"
        }
      ]
    },
    {
      "cell_type": "code",
      "metadata": {
        "id": "aAZwKV07_XZi",
        "outputId": "256269f3-255b-4064-db23-e2ddd8c53553",
        "colab": {
          "base_uri": "https://localhost:8080/"
        }
      },
      "source": [
        "from google.colab import drive\n",
        "drive.mount('/content/drive')"
      ],
      "execution_count": null,
      "outputs": [
        {
          "output_type": "stream",
          "text": [
            "Mounted at /content/drive\n"
          ],
          "name": "stdout"
        }
      ]
    },
    {
      "cell_type": "code",
      "metadata": {
        "id": "zzWbxQPpZiiR"
      },
      "source": [
        "DIR_ROOT = '/content/drive/My Drive/DeepLearning/Data_PhanLoaiBaoLuc'\n",
        "DIR_INPUT_TRAIN = DIR_ROOT + '/InputTrain_30_10_2020_2'\n",
        "DIR_MODEL_LSTM = DIR_ROOT + '/Models/LSTM_Train_30_10_2020_2.h5'\n",
        "DIR_MODEL_CNN = DIR_ROOT + '/Models/VGG16_Model.h5'\n",
        "SIZE = (224, 224)\n",
        "NUM_FRAME_INPUT_LSTM = 20\n",
        "TRANSFER_VALUE_SIZE = 4096\n",
        "RNN_SIZE = 512\n",
        "EPOCH = 300\n",
        "BATCH_SIZE = 150\n",
        "\n",
        "VIDEO_NAMES = [\n",
        "  'da',\n",
        "  'dn',\n",
        "  'nt',\n",
        "  'no'\n",
        "]\n",
        "\n",
        "VIDEO_NAMES_DETAIL = [\n",
        "  'Đá',\n",
        "  'Đánh, tát',\n",
        "  'Nắm tóc',\n",
        "  'Không có bạo lực'\n",
        "]\n",
        "\n",
        "VIDEO_LABELS = [\n",
        "  [1, 0, 0, 0],\n",
        "  [0, 1, 0, 0],\n",
        "  [0, 0, 1, 0],\n",
        "  [0, 0, 0, 1]\n",
        "]\n",
        "\n",
        "NUM_CLASSIFY = len(VIDEO_NAMES)"
      ],
      "execution_count": null,
      "outputs": []
    },
    {
      "cell_type": "code",
      "metadata": {
        "id": "fELuBaju_gFv"
      },
      "source": [
        "import os\n",
        "import cv2\n",
        "import sys\n",
        "import zipfile\n",
        "\n",
        "def fun_print(name: str, value) -> None:\n",
        "    print('@ Deep Learning> ', name)\n",
        "    print(value)\n",
        "\n",
        "\n",
        "def fun_getFileNames(path: str) -> list:\n",
        "    return os.listdir(path)\n",
        "\n",
        "\n",
        "def fun_showVideoPath(path: str, delay: int = 25) -> None:\n",
        "    cap = cv2.VideoCapture(path)\n",
        "    isContinue, frame = cap.read()\n",
        "    while True:\n",
        "        if not isContinue:\n",
        "            break\n",
        "        cv2.imshow('frame', frame)\n",
        "        if cv2.waitKey(delay=delay) & 0xFF == ord('q'):\n",
        "            break\n",
        "        isContinue, frame = cap.read()\n",
        "\n",
        "    cap.release()\n",
        "    cv2.destroyAllWindows()\n",
        "\n",
        "\n",
        "def fun_getFramesOfVideo(path: str, count: int = 20) -> list:\n",
        "    cap = cv2.VideoCapture(path)\n",
        "    isContinue, frame = cap.read()\n",
        "    imgs = []\n",
        "    while count > 0:\n",
        "        if not isContinue:\n",
        "            break\n",
        "        imgs.append(frame)\n",
        "        isContinue, frame = cap.read()\n",
        "        count -= 1\n",
        "    cap.release()\n",
        "    cv2.destroyAllWindows()\n",
        "    return imgs\n",
        "\n",
        "def fun_getFramesOfVideo_ALL(path: str) -> list:\n",
        "    cap = cv2.VideoCapture(path)\n",
        "    isContinue, frame = cap.read()\n",
        "    imgs = []\n",
        "    while True:\n",
        "        if not isContinue:\n",
        "            break\n",
        "        imgs.append(frame)\n",
        "        isContinue, frame = cap.read()\n",
        "    cap.release()\n",
        "    cv2.destroyAllWindows()\n",
        "    return imgs\n",
        "\n",
        "\n",
        "def fun_showVideoFrames(frames: list, delay: int = 25) -> None:\n",
        "    for frame in frames:\n",
        "        cv2.imshow('frame', frame)\n",
        "        if cv2.waitKey(delay=delay) & 0xFF == ord('q'):\n",
        "            break\n",
        "\n",
        "\n",
        "def fun_showVideo(source, delay: int = 25) -> None:\n",
        "    if isinstance(source, str):\n",
        "        fun_showVideoPath(path=source, delay=delay)\n",
        "    else:\n",
        "        fun_showVideoFrames(frames=source, delay=delay)\n",
        "\n",
        "\n",
        "def fun_resizeFrames(frames: list, size: tuple = (224, 224)) -> list:\n",
        "    imgs = []\n",
        "    count = 0\n",
        "    for frame in frames:\n",
        "        try:\n",
        "          fr = cv2.resize(frame, dsize=size)\n",
        "        except:\n",
        "          print('\\r!Error To Resize of {0}'.format(count))\n",
        "        imgs.append(fr)\n",
        "        count += 1\n",
        "    cv2.destroyAllWindows()\n",
        "    return imgs\n",
        "\n",
        "\n",
        "def fun_saveFramesToVideo(frames: list, path: str, fps: int = 25) -> bool:\n",
        "    try:\n",
        "        height, width, layer = frames[0].shape\n",
        "        wr = cv2.VideoWriter(path, cv2.VideoWriter_fourcc(*'MJPG'), fps, (width, height))\n",
        "        for frame in frames:\n",
        "            wr.write(frame)\n",
        "        wr.release()\n",
        "        cv2.destroyAllWindows()\n",
        "        return True\n",
        "\n",
        "    except:\n",
        "        fun_print(name='Write Video: '+path, value='ERROR TO WRITE VIDEO')\n",
        "        return False\n",
        "\n",
        "def fun_getSizeOfFrame(frame) -> tuple:\n",
        "    height, width, layer = frame.shape\n",
        "    return (width, height)\n",
        "\n",
        "# version 1\n",
        "def fun_outListVideoWithNumFrame(pathVideoLoad: str, dirToSave: str, preFixName: str, videoNameIndex: int= None, countFrame: int = 40, fps: int = 25, isShowCalculating: bool = False) -> int:\n",
        "    if videoNameIndex is None:\n",
        "        fun_print('fun_outListVideoWithNumFrame', 'Please input para: videoNameIndex')\n",
        "        return 0\n",
        "\n",
        "    all = 0\n",
        "    countWriten = 0\n",
        "    if isShowCalculating:\n",
        "        fun_print('Calculator Video Out Frame', 'calculating...')\n",
        "        all = fun_getFramesOfVideo_ALL(pathVideoLoad)\n",
        "        all = len(all) // countFrame\n",
        "\n",
        "    cap = cv2.VideoCapture(pathVideoLoad)\n",
        "    isContinue, frame = cap.read()\n",
        "    count = videoNameIndex\n",
        "    while True:\n",
        "        if not isContinue:\n",
        "            break\n",
        "        nameFile = dirToSave + preFixName + '_out_'+str(count)+'.avi'\n",
        "        cFrame = countFrame\n",
        "        frames = []\n",
        "\n",
        "        # get list frame\n",
        "        while cFrame > 0:\n",
        "            frames.append(frame)\n",
        "            isContinue, frame = cap.read()\n",
        "            if not isContinue:\n",
        "                break\n",
        "            cFrame -= 1\n",
        "\n",
        "        # check video enough frameCount frame ?\n",
        "        if len(frames) != countFrame:\n",
        "            break\n",
        "\n",
        "        # write list frame\n",
        "        res = fun_saveFramesToVideo(frames=frames, path=nameFile, fps=fps)\n",
        "        countWriten += 1\n",
        "        if res:\n",
        "            if isShowCalculating:\n",
        "                percent = countWriten / all\n",
        "                mess = '\\r - Writen: {0} -> Complete: {1:.1%}'.format(nameFile, percent)\n",
        "                sys.stdout.write(mess)\n",
        "                sys.stdout.flush()\n",
        "            else:\n",
        "                mess = '\\r - Writen: {0} -> Complete'.format(nameFile)\n",
        "                sys.stdout.write(mess)\n",
        "                sys.stdout.flush()\n",
        "\n",
        "        # done\n",
        "        count += 1\n",
        "\n",
        "    cap.release()\n",
        "    cv2.destroyAllWindows()\n",
        "    return count\n",
        "\n",
        "def fun_extractZipFile(pathFileZip: str, pathToSave: str) -> None:\n",
        "    if not os.path.exists(pathToSave):\n",
        "        os.makedirs(pathToSave)\n",
        "    fun_print(name='Extract All ' + pathFileZip, value='Extracting...')\n",
        "    if (pathFileZip.endswith('.zip')):\n",
        "        zipfile.ZipFile(file=pathFileZip, mode='r').extractall(path=pathToSave)\n",
        "        print('Extract Done')\n",
        "    else:\n",
        "        print('Please Input zip file')\n",
        "\n",
        "def fun_print_process(count: int, max: int, mess: str = 'Processing: ') -> None:\n",
        "  process = count / max\n",
        "  mess = '\\r - ' +  mess + ' [{0:.1%}]'.format(process)\n",
        "  sys.stdout.write(mess)\n",
        "  sys.stdout.flush()\n",
        "\n",
        "def getModelLSTM(rnn_size: int = 512, input_shape: tuple = (20, 4096), num_classify: int = 3):\n",
        "  modelLSTM = Sequential()\n",
        "  modelLSTM.add(LSTM(rnn_size, input_shape= input_shape))\n",
        "  modelLSTM.add(Dense(1024))\n",
        "  modelLSTM.add(Activation('relu'))\n",
        "  modelLSTM.add(Dense(50))\n",
        "  modelLSTM.add(Activation('sigmoid'))\n",
        "  modelLSTM.add(Dense(num_classify))\n",
        "  modelLSTM.add(Activation('softmax'))\n",
        "  modelLSTM.compile(loss='mean_squared_error', optimizer='adam', metrics=['accuracy'])\n",
        "  return modelLSTM\n",
        "\n",
        "def fun_predict(modelLSTM, transferValue, isPrint: bool= True):\n",
        "    arrPre = []\n",
        "    arrPre.append(transferValue)\n",
        "    Real = modelLSTM.predict(np.array(arrPre))\n",
        "    pre = np.argmax(Real)\n",
        "\n",
        "    if isPrint:\n",
        "      print(Real, pre)\n",
        "      print('\\r')\n",
        "    return pre, Real[0][pre]\n",
        "\n",
        "#version 1\n",
        "def fun_loadVideoPredictPutTextAndSave(modelLSTM, pathLoadVideo, pathSave, videoNameDetail: list, perFameInputLSTM= 20, tranferSize: int = 4096, fps: int= 25):\n",
        "    cap = cv2.VideoCapture(pathLoadVideo)\n",
        "    isContinue, frame = cap.read()\n",
        "\n",
        "    size = fun_getSizeOfFrame(frame= frame)\n",
        "    wr = cv2.VideoWriter(pathSave, cv2.VideoWriter_fourcc(*'MJPG'), fps, size)\n",
        "    countFrame = 0\n",
        "\n",
        "    while True:\n",
        "      if not isContinue:\n",
        "        break\n",
        "      \n",
        "      imgs = []\n",
        "      trans = []\n",
        "      count = perFameInputLSTM\n",
        "\n",
        "      while count > 0:\n",
        "        imgs.append(frame)\n",
        "        trans.append(frame)\n",
        "        isContinue, frame = cap.read()\n",
        "        count -= 1\n",
        "\n",
        "      if len(imgs) != perFameInputLSTM:\n",
        "        break\n",
        "\n",
        "      trans = getTransferValue(trans)\n",
        "\n",
        "      pre, real = fun_predict(modelLSTM= modelLSTM, transferValue= trans)\n",
        "\n",
        "      color=(100, 200, 255)\n",
        "      conv = videoNameDetail[pre]\n",
        "\n",
        "      text = 'Predict: {0} -> Real: [ {1} ]'.format(conv, real)\n",
        "\n",
        "      for ff in imgs:\n",
        "        countFrame += 1\n",
        "        # putText\n",
        "        cv2.putText(img=ff,\n",
        "                    text=text,\n",
        "                    org=(50, 100),\n",
        "                    fontScale=1,\n",
        "                    fontFace=cv2.FONT_HERSHEY_COMPLEX_SMALL,\n",
        "                    thickness=1,\n",
        "                    color= color )\n",
        "\n",
        "        cv2.putText(img=ff,\n",
        "                    text='Frame Count: {0}'.format(countFrame),\n",
        "                    org=(50, 150),\n",
        "                    fontScale=1,\n",
        "                    fontFace=cv2.FONT_HERSHEY_COMPLEX_SMALL,\n",
        "                    thickness=1,\n",
        "                    color= color )\n",
        "\n",
        "        wr.write(ff)\n",
        "\n",
        "      isContinue, frame = cap.read()\n",
        "\n",
        "    wr.release()\n",
        "    cap.release()\n",
        "    cv2.destroyAllWindows()\n",
        "\n",
        "def fun_mergeVideo(dirInput: str, videoNames: list, pathSave, fps: int= 25):\n",
        "  count = 0\n",
        "  max = len(videoNames)\n",
        "  sizeVideoOut = (int(1280 * 0.7), int(720 * 0.7))\n",
        "  wr = cv2.VideoWriter(pathSave, cv2.VideoWriter_fourcc(*'MJPG'), fps, sizeVideoOut)\n",
        "  for name in videoNames:\n",
        "    frames = fun_getFramesOfVideo_ALL(path= dirInput + name)\n",
        "    frames = fun_resizeFrames(frames= frames, size= sizeVideoOut)\n",
        "    for frame in frames:\n",
        "      wr.write(frame)\n",
        "    fun_print_process(count= count, max= max, mess= 'Merge video processing: ')\n",
        "    count += 1\n",
        "  wr.release()\n",
        "  cv2.destroyAllWindows()"
      ],
      "execution_count": null,
      "outputs": []
    },
    {
      "cell_type": "code",
      "metadata": {
        "id": "1rRvqH5MsKl7",
        "outputId": "8d4452e4-ef26-4e89-9138-ee7c74a401be",
        "colab": {
          "base_uri": "https://localhost:8080/"
        }
      },
      "source": [
        "fun_extractZipFile(pathFileZip= DIR_ROOT + '/InputsZip/Train_30_10_2020_2.zip', pathToSave= DIR_INPUT_TRAIN)"
      ],
      "execution_count": null,
      "outputs": [
        {
          "output_type": "stream",
          "text": [
            "@ Deep Learning>  Extract All /content/drive/My Drive/DeepLearning/Data_PhanLoaiBaoLuc/InputsZip/Train_30_10_2020_2.zip\n",
            "Extracting...\n",
            "Extract Done\n"
          ],
          "name": "stdout"
        }
      ]
    },
    {
      "cell_type": "code",
      "metadata": {
        "id": "eXQ2Y5O5tJvz",
        "outputId": "93f59616-f2d9-4124-fcf9-ad3adf49e3f6",
        "colab": {
          "base_uri": "https://localhost:8080/"
        }
      },
      "source": [
        "fileNames = fun_getFileNames(path= DIR_INPUT_TRAIN)\n",
        "fun_print(name= 'Xem thư mục bao nhiêu file?: ' + DIR_INPUT_TRAIN, value= 'Có: {0} Files'.format(len(fileNames)))"
      ],
      "execution_count": null,
      "outputs": [
        {
          "output_type": "stream",
          "text": [
            "@ Deep Learning>  Xem thư mục bao nhiêu file?: /content/drive/My Drive/DeepLearning/Data_PhanLoaiBaoLuc/InputTrain_30_10_2020_2\n",
            "Có: 4 Files\n"
          ],
          "name": "stdout"
        }
      ]
    },
    {
      "cell_type": "code",
      "metadata": {
        "id": "PccSZwUftLxs"
      },
      "source": [
        "from keras.applications import VGG16\n",
        "from keras.models import Model, Sequential, load_model\n",
        "import numpy as np\n",
        "from random import shuffle\n",
        "from keras.layers import LSTM, Dense, Activation\n",
        "import matplotlib.pyplot as plt"
      ],
      "execution_count": null,
      "outputs": []
    },
    {
      "cell_type": "code",
      "metadata": {
        "id": "99AnuqBUtNsr",
        "outputId": "a059afd5-1ecc-4b6a-b466-f634abb00eb3",
        "colab": {
          "base_uri": "https://localhost:8080/"
        }
      },
      "source": [
        "modelCNN = load_model(DIR_MODEL_CNN, compile= False)\n",
        "modelCNN.summary()"
      ],
      "execution_count": null,
      "outputs": [
        {
          "output_type": "stream",
          "text": [
            "Model: \"vgg16\"\n",
            "_________________________________________________________________\n",
            "Layer (type)                 Output Shape              Param #   \n",
            "=================================================================\n",
            "input_2 (InputLayer)         [(None, 224, 224, 3)]     0         \n",
            "_________________________________________________________________\n",
            "block1_conv1 (Conv2D)        (None, 224, 224, 64)      1792      \n",
            "_________________________________________________________________\n",
            "block1_conv2 (Conv2D)        (None, 224, 224, 64)      36928     \n",
            "_________________________________________________________________\n",
            "block1_pool (MaxPooling2D)   (None, 112, 112, 64)      0         \n",
            "_________________________________________________________________\n",
            "block2_conv1 (Conv2D)        (None, 112, 112, 128)     73856     \n",
            "_________________________________________________________________\n",
            "block2_conv2 (Conv2D)        (None, 112, 112, 128)     147584    \n",
            "_________________________________________________________________\n",
            "block2_pool (MaxPooling2D)   (None, 56, 56, 128)       0         \n",
            "_________________________________________________________________\n",
            "block3_conv1 (Conv2D)        (None, 56, 56, 256)       295168    \n",
            "_________________________________________________________________\n",
            "block3_conv2 (Conv2D)        (None, 56, 56, 256)       590080    \n",
            "_________________________________________________________________\n",
            "block3_conv3 (Conv2D)        (None, 56, 56, 256)       590080    \n",
            "_________________________________________________________________\n",
            "block3_pool (MaxPooling2D)   (None, 28, 28, 256)       0         \n",
            "_________________________________________________________________\n",
            "block4_conv1 (Conv2D)        (None, 28, 28, 512)       1180160   \n",
            "_________________________________________________________________\n",
            "block4_conv2 (Conv2D)        (None, 28, 28, 512)       2359808   \n",
            "_________________________________________________________________\n",
            "block4_conv3 (Conv2D)        (None, 28, 28, 512)       2359808   \n",
            "_________________________________________________________________\n",
            "block4_pool (MaxPooling2D)   (None, 14, 14, 512)       0         \n",
            "_________________________________________________________________\n",
            "block5_conv1 (Conv2D)        (None, 14, 14, 512)       2359808   \n",
            "_________________________________________________________________\n",
            "block5_conv2 (Conv2D)        (None, 14, 14, 512)       2359808   \n",
            "_________________________________________________________________\n",
            "block5_conv3 (Conv2D)        (None, 14, 14, 512)       2359808   \n",
            "_________________________________________________________________\n",
            "block5_pool (MaxPooling2D)   (None, 7, 7, 512)         0         \n",
            "_________________________________________________________________\n",
            "flatten (Flatten)            (None, 25088)             0         \n",
            "_________________________________________________________________\n",
            "fc1 (Dense)                  (None, 4096)              102764544 \n",
            "_________________________________________________________________\n",
            "fc2 (Dense)                  (None, 4096)              16781312  \n",
            "_________________________________________________________________\n",
            "predictions (Dense)          (None, 1000)              4097000   \n",
            "=================================================================\n",
            "Total params: 138,357,544\n",
            "Trainable params: 138,357,544\n",
            "Non-trainable params: 0\n",
            "_________________________________________________________________\n"
          ],
          "name": "stdout"
        }
      ]
    },
    {
      "cell_type": "code",
      "metadata": {
        "id": "-CPpP8HEvdSY",
        "outputId": "cf88b49e-ba6c-4db4-dec4-ca18ad69b059",
        "colab": {
          "base_uri": "https://localhost:8080/"
        }
      },
      "source": [
        "frames = fun_getFramesOfVideo(path= DIR_INPUT_TRAIN + '/da/da1_111_001.avi', count=20)\n",
        "\n",
        "fun_print('count frame: ', value=len(frames))\n",
        "\n",
        "transferLayer = modelCNN.get_layer(name='fc2')\n",
        "\n",
        "imgModelTransfer = Model(inputs= modelCNN.input, outputs= transferLayer.output)\n",
        "\n",
        "frames = fun_resizeFrames(frames= frames, size=SIZE)\n",
        "\n",
        "frames = np.array(frames)\n",
        "frames = (frames / 255.).astype(np.float16)\n",
        "\n",
        "transfer = imgModelTransfer.predict(frames)\n",
        "print(transfer)"
      ],
      "execution_count": null,
      "outputs": [
        {
          "output_type": "stream",
          "text": [
            "@ Deep Learning>  count frame: \n",
            "20\n",
            "[[0.         0.         1.6838506  ... 0.         0.         0.6865477 ]\n",
            " [0.         0.         1.6627779  ... 0.         0.         0.7123731 ]\n",
            " [0.         0.         1.6429672  ... 0.         0.         0.6772694 ]\n",
            " ...\n",
            " [0.         0.         1.5355808  ... 0.         0.         0.84070826]\n",
            " [0.         0.         1.5388259  ... 0.         0.         0.84116304]\n",
            " [0.         0.         1.4494164  ... 0.         0.         0.80755335]]\n"
          ],
          "name": "stdout"
        }
      ]
    },
    {
      "cell_type": "code",
      "metadata": {
        "id": "Xd8Z2DX7tVCP"
      },
      "source": [
        "def getIndexOF_VIDEO_NAMES(fileName: str) -> int:\n",
        "  index = 0\n",
        "  for txt in VIDEO_NAMES:\n",
        "    if fileName.find(txt) != -1:\n",
        "      return index\n",
        "    index += 1\n",
        "  return -1\n",
        "\n",
        "def getVideoLabelNames(path: str):\n",
        "  names = []\n",
        "  labels = []\n",
        "  fileNames = fun_getFileNames(path= path)\n",
        "  vName = ''\n",
        "  for file in fileNames:\n",
        "    lableIndex = getIndexOF_VIDEO_NAMES(fileName= file)\n",
        "    if lableIndex == -1:\n",
        "      continue\n",
        "    names.append(file)\n",
        "    labels.append(VIDEO_LABELS[lableIndex])\n",
        "  \n",
        "  c = list(zip(names, labels))\n",
        "  shuffle(c)\n",
        "\n",
        "  names, labels = zip(*c)\n",
        "  return names, labels"
      ],
      "execution_count": null,
      "outputs": []
    },
    {
      "cell_type": "code",
      "metadata": {
        "id": "-1YDlUY-unfR"
      },
      "source": [
        "def getVideoLabelNames_EachFolder(path: str):\n",
        "  names = []\n",
        "  labels = []\n",
        "  \n",
        "  for fol in VIDEO_NAMES:\n",
        "    folder = path + '/' + fol\n",
        "    fileNames = fun_getFileNames(path= folder)\n",
        "    index = VIDEO_NAMES.index(fol)\n",
        "    for file in fileNames:\n",
        "      names.append('/' + fol + '/' + file)\n",
        "      labels.append(VIDEO_LABELS[index])\n",
        "  \n",
        "  c = list(zip(names, labels))\n",
        "  shuffle(c)\n",
        "\n",
        "  names, labels = zip(*c)\n",
        "  return names, labels"
      ],
      "execution_count": null,
      "outputs": []
    },
    {
      "cell_type": "code",
      "metadata": {
        "id": "H7EQiTk5vS7x",
        "outputId": "39b31095-af3b-469d-9dbb-d0b419934a82",
        "colab": {
          "base_uri": "https://localhost:8080/"
        }
      },
      "source": [
        "names, labels = getVideoLabelNames_EachFolder(path= DIR_INPUT_TRAIN)\n",
        "\n",
        "fun_print('Names', names[0:3])\n",
        "fun_print('labels', labels[0:3])"
      ],
      "execution_count": null,
      "outputs": [
        {
          "output_type": "stream",
          "text": [
            "@ Deep Learning>  Names\n",
            "('/no/no_112.avi', '/da/da7_197_003.avi', '/nt/nt2_007_001.avi')\n",
            "@ Deep Learning>  labels\n",
            "([0, 0, 0, 1], [1, 0, 0, 0], [0, 0, 1, 0])\n"
          ],
          "name": "stdout"
        }
      ]
    },
    {
      "cell_type": "code",
      "metadata": {
        "id": "mTuTF-ZOu0OI"
      },
      "source": [
        "def getTransferValue(pathVideoOrListFrame):\n",
        "  if isinstance(pathVideoOrListFrame, str):\n",
        "    frames = fun_getFramesOfVideo(path=pathVideoOrListFrame, count=NUM_FRAME_INPUT_LSTM)\n",
        "  else:\n",
        "    frames = pathVideoOrListFrame\n",
        "    \n",
        "  frames = fun_resizeFrames(frames= frames, size=SIZE)\n",
        "\n",
        "  frames = np.array(frames)\n",
        "  frames = (frames / 255.).astype(np.float16)\n",
        "\n",
        "  transfer = imgModelTransfer.predict(frames)\n",
        "  return transfer"
      ],
      "execution_count": null,
      "outputs": []
    },
    {
      "cell_type": "code",
      "metadata": {
        "id": "Y5znI2XEv5Vk",
        "outputId": "3ca3267b-beed-4e66-e7ac-96d2d2e9a8bd",
        "colab": {
          "base_uri": "https://localhost:8080/"
        }
      },
      "source": [
        "transfer = getTransferValue(pathVideoOrListFrame= DIR_INPUT_TRAIN + '/da/da1_111_001.avi')\n",
        "print(transfer)"
      ],
      "execution_count": null,
      "outputs": [
        {
          "output_type": "stream",
          "text": [
            "[[0.         0.         1.6838506  ... 0.         0.         0.6865477 ]\n",
            " [0.         0.         1.6627779  ... 0.         0.         0.7123731 ]\n",
            " [0.         0.         1.6429672  ... 0.         0.         0.6772694 ]\n",
            " ...\n",
            " [0.         0.         1.5355808  ... 0.         0.         0.84070826]\n",
            " [0.         0.         1.5388259  ... 0.         0.         0.84116304]\n",
            " [0.         0.         1.4494164  ... 0.         0.         0.80755335]]\n"
          ],
          "name": "stdout"
        }
      ]
    },
    {
      "cell_type": "code",
      "metadata": {
        "id": "fttcfMUUu3C1"
      },
      "source": [
        "def onesHotLabel(label: list):\n",
        "  _ones = np.ones([NUM_FRAME_INPUT_LSTM, NUM_CLASSIFY])\n",
        "  _onesHot = label * _ones\n",
        "  return np.array(_onesHot)"
      ],
      "execution_count": null,
      "outputs": []
    },
    {
      "cell_type": "code",
      "metadata": {
        "id": "JAXVb8U_v-DJ",
        "outputId": "7dd0debc-e1c0-4984-f872-5ceb655b23d1",
        "colab": {
          "base_uri": "https://localhost:8080/"
        }
      },
      "source": [
        "_oneHot = onesHotLabel([1, 0, 0, 0])\n",
        "fun_print(name='oneHost', value= _oneHot)"
      ],
      "execution_count": null,
      "outputs": [
        {
          "output_type": "stream",
          "text": [
            "@ Deep Learning>  oneHost\n",
            "[[1. 0. 0. 0.]\n",
            " [1. 0. 0. 0.]\n",
            " [1. 0. 0. 0.]\n",
            " [1. 0. 0. 0.]\n",
            " [1. 0. 0. 0.]\n",
            " [1. 0. 0. 0.]\n",
            " [1. 0. 0. 0.]\n",
            " [1. 0. 0. 0.]\n",
            " [1. 0. 0. 0.]\n",
            " [1. 0. 0. 0.]\n",
            " [1. 0. 0. 0.]\n",
            " [1. 0. 0. 0.]\n",
            " [1. 0. 0. 0.]\n",
            " [1. 0. 0. 0.]\n",
            " [1. 0. 0. 0.]\n",
            " [1. 0. 0. 0.]\n",
            " [1. 0. 0. 0.]\n",
            " [1. 0. 0. 0.]\n",
            " [1. 0. 0. 0.]\n",
            " [1. 0. 0. 0.]]\n"
          ],
          "name": "stdout"
        }
      ]
    },
    {
      "cell_type": "code",
      "metadata": {
        "id": "AX2YE0UcwElu",
        "outputId": "0f143298-347b-427c-f0a4-913f117a26b0",
        "colab": {
          "base_uri": "https://localhost:8080/"
        }
      },
      "source": [
        "names, labels = getVideoLabelNames_EachFolder(path= DIR_INPUT_TRAIN)\n",
        "\n",
        "fun_print(name= 'Size of List video', value= len(names))\n",
        "fun_print(name= 'Size of List labels', value= len(labels))\n",
        "\n",
        "print('= '*50)\n",
        "\n",
        "print(names[0:5])\n",
        "print(labels[0:5])\n",
        "\n",
        "print('= '*50)\n",
        "\n",
        "print(getTransferValue(DIR_INPUT_TRAIN + names[0]))\n",
        "print(onesHotLabel(labels[0]))"
      ],
      "execution_count": null,
      "outputs": [
        {
          "output_type": "stream",
          "text": [
            "@ Deep Learning>  Size of List video\n",
            "800\n",
            "@ Deep Learning>  Size of List labels\n",
            "800\n",
            "= = = = = = = = = = = = = = = = = = = = = = = = = = = = = = = = = = = = = = = = = = = = = = = = = = \n",
            "('/nt/fi_nt_007.avi', '/da/fi_da_073.avi', '/nt/fi_nt_010.avi', '/da/fi_da_060.avi', '/da/da8_035_002.avi')\n",
            "([0, 0, 1, 0], [1, 0, 0, 0], [0, 0, 1, 0], [1, 0, 0, 0], [1, 0, 0, 0])\n",
            "= = = = = = = = = = = = = = = = = = = = = = = = = = = = = = = = = = = = = = = = = = = = = = = = = = \n",
            "[[0.         0.         1.542526   ... 0.         0.         0.6398576 ]\n",
            " [0.         0.         1.4626913  ... 0.         0.         0.67260987]\n",
            " [0.         0.         1.4826288  ... 0.         0.         0.6635122 ]\n",
            " ...\n",
            " [0.         0.         1.4874965  ... 0.         0.         0.7402186 ]\n",
            " [0.         0.         1.6439462  ... 0.         0.         0.7603757 ]\n",
            " [0.         0.         1.6284763  ... 0.         0.         0.7510379 ]]\n",
            "[[0. 0. 1. 0.]\n",
            " [0. 0. 1. 0.]\n",
            " [0. 0. 1. 0.]\n",
            " [0. 0. 1. 0.]\n",
            " [0. 0. 1. 0.]\n",
            " [0. 0. 1. 0.]\n",
            " [0. 0. 1. 0.]\n",
            " [0. 0. 1. 0.]\n",
            " [0. 0. 1. 0.]\n",
            " [0. 0. 1. 0.]\n",
            " [0. 0. 1. 0.]\n",
            " [0. 0. 1. 0.]\n",
            " [0. 0. 1. 0.]\n",
            " [0. 0. 1. 0.]\n",
            " [0. 0. 1. 0.]\n",
            " [0. 0. 1. 0.]\n",
            " [0. 0. 1. 0.]\n",
            " [0. 0. 1. 0.]\n",
            " [0. 0. 1. 0.]\n",
            " [0. 0. 1. 0.]]\n"
          ],
          "name": "stdout"
        }
      ]
    },
    {
      "cell_type": "code",
      "metadata": {
        "id": "-Xk7UwFOwHs7"
      },
      "source": [
        "def getTrainSet_LabelSet(numItem: int):\n",
        "  count = 0\n",
        "  trainSet = []\n",
        "  labelSet = []\n",
        "  while count < numItem:\n",
        "    itemTrain = getTransferValue(pathVideoOrListFrame= DIR_INPUT_TRAIN + names[count])\n",
        "    itemLable = onesHotLabel(label= labels[count])\n",
        "\n",
        "    trainSet.append(itemTrain)\n",
        "    labelSet.append(itemLable[0])\n",
        "\n",
        "    fun_print_process(count= count, max= numItem, mess= 'Video frame throw into VGG16 Model Processing: ')\n",
        "\n",
        "    count += 1\n",
        "  \n",
        "  return trainSet, labelSet"
      ],
      "execution_count": null,
      "outputs": []
    },
    {
      "cell_type": "code",
      "metadata": {
        "id": "KJfl1U2DwLMN",
        "outputId": "f17235f3-91b8-43b9-89a2-e81ba65c222a",
        "colab": {
          "base_uri": "https://localhost:8080/"
        }
      },
      "source": [
        "trainSet, labelSet = getTrainSet_LabelSet(numItem= len(names))\n",
        "fun_print(name= 'Get transfer value', value= 'Finish')"
      ],
      "execution_count": null,
      "outputs": [
        {
          "output_type": "stream",
          "text": [
            " - Video frame throw into VGG16 Model Processing:  [99.9%]@ Deep Learning>  Get transfer value\n",
            "Finish\n"
          ],
          "name": "stdout"
        }
      ]
    },
    {
      "cell_type": "code",
      "metadata": {
        "id": "ljm2ueTnxLmn",
        "outputId": "c9e261c1-0c8e-4383-f261-103600f4eb39",
        "colab": {
          "base_uri": "https://localhost:8080/"
        }
      },
      "source": [
        "print(len(trainSet))\n",
        "print(len(trainSet[0]))\n",
        "print(len(trainSet[0][0]))"
      ],
      "execution_count": null,
      "outputs": [
        {
          "output_type": "stream",
          "text": [
            "800\n",
            "20\n",
            "4096\n"
          ],
          "name": "stdout"
        }
      ]
    },
    {
      "cell_type": "code",
      "metadata": {
        "id": "ZOCS3zrrxO3O",
        "outputId": "eea5426b-a29a-4720-8b6a-bd08c86f26a7",
        "colab": {
          "base_uri": "https://localhost:8080/"
        }
      },
      "source": [
        "print(len(labelSet))\n",
        "print(labelSet[0])\n",
        "print(labelSet[0][0])"
      ],
      "execution_count": null,
      "outputs": [
        {
          "output_type": "stream",
          "text": [
            "800\n",
            "[0. 0. 1. 0.]\n",
            "0.0\n"
          ],
          "name": "stdout"
        }
      ]
    },
    {
      "cell_type": "code",
      "metadata": {
        "id": "RWy7zahYxSgz",
        "outputId": "3786a500-baa8-4031-faa9-3b2822a2915d",
        "colab": {
          "base_uri": "https://localhost:8080/"
        }
      },
      "source": [
        "model = getModelLSTM(num_classify= NUM_CLASSIFY)\n",
        "model.summary()"
      ],
      "execution_count": null,
      "outputs": [
        {
          "output_type": "stream",
          "text": [
            "Model: \"sequential_1\"\n",
            "_________________________________________________________________\n",
            "Layer (type)                 Output Shape              Param #   \n",
            "=================================================================\n",
            "lstm_1 (LSTM)                (None, 512)               9439232   \n",
            "_________________________________________________________________\n",
            "dense_3 (Dense)              (None, 1024)              525312    \n",
            "_________________________________________________________________\n",
            "activation_3 (Activation)    (None, 1024)              0         \n",
            "_________________________________________________________________\n",
            "dense_4 (Dense)              (None, 50)                51250     \n",
            "_________________________________________________________________\n",
            "activation_4 (Activation)    (None, 50)                0         \n",
            "_________________________________________________________________\n",
            "dense_5 (Dense)              (None, 4)                 204       \n",
            "_________________________________________________________________\n",
            "activation_5 (Activation)    (None, 4)                 0         \n",
            "=================================================================\n",
            "Total params: 10,015,998\n",
            "Trainable params: 10,015,998\n",
            "Non-trainable params: 0\n",
            "_________________________________________________________________\n"
          ],
          "name": "stdout"
        }
      ]
    },
    {
      "cell_type": "code",
      "metadata": {
        "id": "rrIxeU_oxngo",
        "outputId": "7727caf5-55f7-4ee8-de0b-85dbddfb9677",
        "colab": {
          "base_uri": "https://localhost:8080/"
        }
      },
      "source": [
        "history = model.fit(np.array(trainSet[0:750]), np.array(labelSet[0:750]), epochs=EPOCH,\n",
        "                    validation_data=(np.array(trainSet[750:]), np.array(labelSet[750:])), \n",
        "                    batch_size=BATCH_SIZE, verbose=2)\n",
        "model.save(DIR_MODEL_LSTM)\n",
        "fun_print(name= 'LSTM Train', value= 'Finish')"
      ],
      "execution_count": null,
      "outputs": [
        {
          "output_type": "stream",
          "text": [
            "Epoch 1/300\n",
            "WARNING:tensorflow:Callbacks method `on_train_batch_end` is slow compared to the batch time (batch time: 0.0214s vs `on_train_batch_end` time: 0.0600s). Check your callbacks.\n",
            "5/5 - 0s - loss: 0.0135 - accuracy: 0.9640 - val_loss: 0.1704 - val_accuracy: 0.5800\n",
            "Epoch 2/300\n",
            "5/5 - 0s - loss: 0.0182 - accuracy: 0.9560 - val_loss: 0.1815 - val_accuracy: 0.5400\n",
            "Epoch 3/300\n",
            "5/5 - 0s - loss: 0.0230 - accuracy: 0.9347 - val_loss: 0.1434 - val_accuracy: 0.6600\n",
            "Epoch 4/300\n",
            "5/5 - 0s - loss: 0.0298 - accuracy: 0.9160 - val_loss: 0.1454 - val_accuracy: 0.6400\n",
            "Epoch 5/300\n",
            "5/5 - 0s - loss: 0.0289 - accuracy: 0.9240 - val_loss: 0.1521 - val_accuracy: 0.6600\n",
            "Epoch 6/300\n",
            "5/5 - 0s - loss: 0.0233 - accuracy: 0.9427 - val_loss: 0.1398 - val_accuracy: 0.6400\n",
            "Epoch 7/300\n",
            "5/5 - 0s - loss: 0.0217 - accuracy: 0.9453 - val_loss: 0.1525 - val_accuracy: 0.6000\n",
            "Epoch 8/300\n",
            "5/5 - 0s - loss: 0.0236 - accuracy: 0.9400 - val_loss: 0.1649 - val_accuracy: 0.5800\n",
            "Epoch 9/300\n",
            "5/5 - 0s - loss: 0.0317 - accuracy: 0.9187 - val_loss: 0.1516 - val_accuracy: 0.6000\n",
            "Epoch 10/300\n",
            "5/5 - 0s - loss: 0.0683 - accuracy: 0.8133 - val_loss: 0.1713 - val_accuracy: 0.5800\n",
            "Epoch 11/300\n",
            "5/5 - 0s - loss: 0.0884 - accuracy: 0.7667 - val_loss: 0.1590 - val_accuracy: 0.6400\n",
            "Epoch 12/300\n",
            "5/5 - 0s - loss: 0.0989 - accuracy: 0.7413 - val_loss: 0.1638 - val_accuracy: 0.5400\n",
            "Epoch 13/300\n",
            "5/5 - 0s - loss: 0.0689 - accuracy: 0.8160 - val_loss: 0.1512 - val_accuracy: 0.6000\n",
            "Epoch 14/300\n",
            "5/5 - 0s - loss: 0.0540 - accuracy: 0.8640 - val_loss: 0.1388 - val_accuracy: 0.6200\n",
            "Epoch 15/300\n",
            "5/5 - 0s - loss: 0.0497 - accuracy: 0.8693 - val_loss: 0.1653 - val_accuracy: 0.5400\n",
            "Epoch 16/300\n",
            "5/5 - 0s - loss: 0.0363 - accuracy: 0.9053 - val_loss: 0.1578 - val_accuracy: 0.5800\n",
            "Epoch 17/300\n",
            "5/5 - 0s - loss: 0.0309 - accuracy: 0.9267 - val_loss: 0.1507 - val_accuracy: 0.5800\n",
            "Epoch 18/300\n",
            "5/5 - 0s - loss: 0.0347 - accuracy: 0.9107 - val_loss: 0.1564 - val_accuracy: 0.6000\n",
            "Epoch 19/300\n",
            "5/5 - 0s - loss: 0.0337 - accuracy: 0.9107 - val_loss: 0.1450 - val_accuracy: 0.6200\n",
            "Epoch 20/300\n",
            "5/5 - 0s - loss: 0.0573 - accuracy: 0.8427 - val_loss: 0.2076 - val_accuracy: 0.4800\n",
            "Epoch 21/300\n",
            "5/5 - 0s - loss: 0.0512 - accuracy: 0.8573 - val_loss: 0.1705 - val_accuracy: 0.5000\n",
            "Epoch 22/300\n",
            "5/5 - 0s - loss: 0.0343 - accuracy: 0.9013 - val_loss: 0.1592 - val_accuracy: 0.6000\n",
            "Epoch 23/300\n",
            "5/5 - 0s - loss: 0.0396 - accuracy: 0.9000 - val_loss: 0.1596 - val_accuracy: 0.5800\n",
            "Epoch 24/300\n",
            "5/5 - 0s - loss: 0.0303 - accuracy: 0.9147 - val_loss: 0.1389 - val_accuracy: 0.6400\n",
            "Epoch 25/300\n",
            "5/5 - 0s - loss: 0.0223 - accuracy: 0.9440 - val_loss: 0.1369 - val_accuracy: 0.6400\n",
            "Epoch 26/300\n",
            "5/5 - 0s - loss: 0.0210 - accuracy: 0.9480 - val_loss: 0.1435 - val_accuracy: 0.6200\n",
            "Epoch 27/300\n",
            "5/5 - 0s - loss: 0.0219 - accuracy: 0.9413 - val_loss: 0.1747 - val_accuracy: 0.5600\n",
            "Epoch 28/300\n",
            "5/5 - 0s - loss: 0.0198 - accuracy: 0.9387 - val_loss: 0.1551 - val_accuracy: 0.6400\n",
            "Epoch 29/300\n",
            "5/5 - 0s - loss: 0.0231 - accuracy: 0.9373 - val_loss: 0.1497 - val_accuracy: 0.5600\n",
            "Epoch 30/300\n",
            "5/5 - 0s - loss: 0.0232 - accuracy: 0.9387 - val_loss: 0.1619 - val_accuracy: 0.5800\n",
            "Epoch 31/300\n",
            "5/5 - 0s - loss: 0.0313 - accuracy: 0.9133 - val_loss: 0.1712 - val_accuracy: 0.5800\n",
            "Epoch 32/300\n",
            "5/5 - 0s - loss: 0.0316 - accuracy: 0.9147 - val_loss: 0.1468 - val_accuracy: 0.6600\n",
            "Epoch 33/300\n",
            "5/5 - 0s - loss: 0.0229 - accuracy: 0.9440 - val_loss: 0.1591 - val_accuracy: 0.5800\n",
            "Epoch 34/300\n",
            "5/5 - 0s - loss: 0.0216 - accuracy: 0.9453 - val_loss: 0.1656 - val_accuracy: 0.5800\n",
            "Epoch 35/300\n",
            "5/5 - 0s - loss: 0.0180 - accuracy: 0.9533 - val_loss: 0.1631 - val_accuracy: 0.5600\n",
            "Epoch 36/300\n",
            "5/5 - 0s - loss: 0.0183 - accuracy: 0.9493 - val_loss: 0.1635 - val_accuracy: 0.5800\n",
            "Epoch 37/300\n",
            "5/5 - 0s - loss: 0.0181 - accuracy: 0.9520 - val_loss: 0.1534 - val_accuracy: 0.6000\n",
            "Epoch 38/300\n",
            "5/5 - 0s - loss: 0.0155 - accuracy: 0.9560 - val_loss: 0.1479 - val_accuracy: 0.6600\n",
            "Epoch 39/300\n",
            "5/5 - 0s - loss: 0.0170 - accuracy: 0.9573 - val_loss: 0.1437 - val_accuracy: 0.6200\n",
            "Epoch 40/300\n",
            "5/5 - 0s - loss: 0.0151 - accuracy: 0.9573 - val_loss: 0.1629 - val_accuracy: 0.5600\n",
            "Epoch 41/300\n",
            "5/5 - 0s - loss: 0.0153 - accuracy: 0.9600 - val_loss: 0.1718 - val_accuracy: 0.5800\n",
            "Epoch 42/300\n",
            "5/5 - 0s - loss: 0.0181 - accuracy: 0.9520 - val_loss: 0.1669 - val_accuracy: 0.6000\n",
            "Epoch 43/300\n",
            "5/5 - 0s - loss: 0.0198 - accuracy: 0.9467 - val_loss: 0.1567 - val_accuracy: 0.6600\n",
            "Epoch 44/300\n",
            "5/5 - 0s - loss: 0.0154 - accuracy: 0.9600 - val_loss: 0.1520 - val_accuracy: 0.6400\n",
            "Epoch 45/300\n",
            "5/5 - 0s - loss: 0.0150 - accuracy: 0.9560 - val_loss: 0.1640 - val_accuracy: 0.6000\n",
            "Epoch 46/300\n",
            "5/5 - 0s - loss: 0.0167 - accuracy: 0.9507 - val_loss: 0.1407 - val_accuracy: 0.6600\n",
            "Epoch 47/300\n",
            "5/5 - 0s - loss: 0.0178 - accuracy: 0.9480 - val_loss: 0.1509 - val_accuracy: 0.6600\n",
            "Epoch 48/300\n",
            "5/5 - 0s - loss: 0.0181 - accuracy: 0.9507 - val_loss: 0.1611 - val_accuracy: 0.6400\n",
            "Epoch 49/300\n",
            "5/5 - 0s - loss: 0.0157 - accuracy: 0.9613 - val_loss: 0.1612 - val_accuracy: 0.5400\n",
            "Epoch 50/300\n",
            "5/5 - 0s - loss: 0.0175 - accuracy: 0.9547 - val_loss: 0.1529 - val_accuracy: 0.5600\n",
            "Epoch 51/300\n",
            "5/5 - 0s - loss: 0.0188 - accuracy: 0.9480 - val_loss: 0.1488 - val_accuracy: 0.6200\n",
            "Epoch 52/300\n",
            "5/5 - 0s - loss: 0.0194 - accuracy: 0.9453 - val_loss: 0.1528 - val_accuracy: 0.6400\n",
            "Epoch 53/300\n",
            "5/5 - 0s - loss: 0.0161 - accuracy: 0.9547 - val_loss: 0.1611 - val_accuracy: 0.6400\n",
            "Epoch 54/300\n",
            "5/5 - 0s - loss: 0.0185 - accuracy: 0.9453 - val_loss: 0.1576 - val_accuracy: 0.6000\n",
            "Epoch 55/300\n",
            "5/5 - 0s - loss: 0.0203 - accuracy: 0.9440 - val_loss: 0.1563 - val_accuracy: 0.6200\n",
            "Epoch 56/300\n",
            "5/5 - 0s - loss: 0.0182 - accuracy: 0.9520 - val_loss: 0.1603 - val_accuracy: 0.6000\n",
            "Epoch 57/300\n",
            "5/5 - 0s - loss: 0.0259 - accuracy: 0.9333 - val_loss: 0.1582 - val_accuracy: 0.6400\n",
            "Epoch 58/300\n",
            "5/5 - 0s - loss: 0.0283 - accuracy: 0.9320 - val_loss: 0.1729 - val_accuracy: 0.5800\n",
            "Epoch 59/300\n",
            "5/5 - 0s - loss: 0.0476 - accuracy: 0.8707 - val_loss: 0.1347 - val_accuracy: 0.6800\n",
            "Epoch 60/300\n",
            "5/5 - 0s - loss: 0.0406 - accuracy: 0.8853 - val_loss: 0.1356 - val_accuracy: 0.6800\n",
            "Epoch 61/300\n",
            "5/5 - 0s - loss: 0.0375 - accuracy: 0.8920 - val_loss: 0.1662 - val_accuracy: 0.5800\n",
            "Epoch 62/300\n",
            "5/5 - 0s - loss: 0.0400 - accuracy: 0.8973 - val_loss: 0.1853 - val_accuracy: 0.5200\n",
            "Epoch 63/300\n",
            "5/5 - 0s - loss: 0.0487 - accuracy: 0.8640 - val_loss: 0.1625 - val_accuracy: 0.6000\n",
            "Epoch 64/300\n",
            "5/5 - 0s - loss: 0.0264 - accuracy: 0.9347 - val_loss: 0.1576 - val_accuracy: 0.6200\n",
            "Epoch 65/300\n",
            "5/5 - 0s - loss: 0.0221 - accuracy: 0.9387 - val_loss: 0.1533 - val_accuracy: 0.6000\n",
            "Epoch 66/300\n",
            "5/5 - 0s - loss: 0.0220 - accuracy: 0.9413 - val_loss: 0.1610 - val_accuracy: 0.5800\n",
            "Epoch 67/300\n",
            "5/5 - 0s - loss: 0.0153 - accuracy: 0.9573 - val_loss: 0.1582 - val_accuracy: 0.6200\n",
            "Epoch 68/300\n",
            "5/5 - 0s - loss: 0.0142 - accuracy: 0.9613 - val_loss: 0.1500 - val_accuracy: 0.6200\n",
            "Epoch 69/300\n",
            "5/5 - 0s - loss: 0.0144 - accuracy: 0.9587 - val_loss: 0.1507 - val_accuracy: 0.6600\n",
            "Epoch 70/300\n",
            "5/5 - 0s - loss: 0.0145 - accuracy: 0.9667 - val_loss: 0.1395 - val_accuracy: 0.6600\n",
            "Epoch 71/300\n",
            "5/5 - 0s - loss: 0.0208 - accuracy: 0.9453 - val_loss: 0.1299 - val_accuracy: 0.6600\n",
            "Epoch 72/300\n",
            "5/5 - 0s - loss: 0.0176 - accuracy: 0.9573 - val_loss: 0.1526 - val_accuracy: 0.6400\n",
            "Epoch 73/300\n",
            "5/5 - 0s - loss: 0.0153 - accuracy: 0.9613 - val_loss: 0.1660 - val_accuracy: 0.6000\n",
            "Epoch 74/300\n",
            "5/5 - 0s - loss: 0.0164 - accuracy: 0.9573 - val_loss: 0.1614 - val_accuracy: 0.5800\n",
            "Epoch 75/300\n",
            "5/5 - 0s - loss: 0.0201 - accuracy: 0.9467 - val_loss: 0.1540 - val_accuracy: 0.6000\n",
            "Epoch 76/300\n",
            "5/5 - 0s - loss: 0.0236 - accuracy: 0.9440 - val_loss: 0.1429 - val_accuracy: 0.6200\n",
            "Epoch 77/300\n",
            "5/5 - 0s - loss: 0.0164 - accuracy: 0.9613 - val_loss: 0.1351 - val_accuracy: 0.6600\n",
            "Epoch 78/300\n",
            "5/5 - 0s - loss: 0.0153 - accuracy: 0.9640 - val_loss: 0.1630 - val_accuracy: 0.6200\n",
            "Epoch 79/300\n",
            "5/5 - 0s - loss: 0.0235 - accuracy: 0.9360 - val_loss: 0.1676 - val_accuracy: 0.5800\n",
            "Epoch 80/300\n",
            "5/5 - 0s - loss: 0.0544 - accuracy: 0.8533 - val_loss: 0.1551 - val_accuracy: 0.6200\n",
            "Epoch 81/300\n",
            "5/5 - 0s - loss: 0.0519 - accuracy: 0.8627 - val_loss: 0.1835 - val_accuracy: 0.5400\n",
            "Epoch 82/300\n",
            "5/5 - 0s - loss: 0.0467 - accuracy: 0.8787 - val_loss: 0.1810 - val_accuracy: 0.5000\n",
            "Epoch 83/300\n",
            "5/5 - 0s - loss: 0.0374 - accuracy: 0.9080 - val_loss: 0.1489 - val_accuracy: 0.6000\n",
            "Epoch 84/300\n",
            "5/5 - 0s - loss: 0.0239 - accuracy: 0.9347 - val_loss: 0.1655 - val_accuracy: 0.5800\n",
            "Epoch 85/300\n",
            "5/5 - 0s - loss: 0.0182 - accuracy: 0.9547 - val_loss: 0.1626 - val_accuracy: 0.6000\n",
            "Epoch 86/300\n",
            "5/5 - 0s - loss: 0.0174 - accuracy: 0.9533 - val_loss: 0.1506 - val_accuracy: 0.6400\n",
            "Epoch 87/300\n",
            "5/5 - 0s - loss: 0.0178 - accuracy: 0.9480 - val_loss: 0.1685 - val_accuracy: 0.6000\n",
            "Epoch 88/300\n",
            "5/5 - 0s - loss: 0.0204 - accuracy: 0.9467 - val_loss: 0.1625 - val_accuracy: 0.6400\n",
            "Epoch 89/300\n",
            "5/5 - 0s - loss: 0.0221 - accuracy: 0.9427 - val_loss: 0.1774 - val_accuracy: 0.5800\n",
            "Epoch 90/300\n",
            "5/5 - 0s - loss: 0.0315 - accuracy: 0.9227 - val_loss: 0.1900 - val_accuracy: 0.5400\n",
            "Epoch 91/300\n",
            "5/5 - 0s - loss: 0.0238 - accuracy: 0.9333 - val_loss: 0.1709 - val_accuracy: 0.5600\n",
            "Epoch 92/300\n",
            "5/5 - 0s - loss: 0.0245 - accuracy: 0.9347 - val_loss: 0.1590 - val_accuracy: 0.5800\n",
            "Epoch 93/300\n",
            "5/5 - 0s - loss: 0.0290 - accuracy: 0.9240 - val_loss: 0.1397 - val_accuracy: 0.7000\n",
            "Epoch 94/300\n",
            "5/5 - 0s - loss: 0.0227 - accuracy: 0.9440 - val_loss: 0.1614 - val_accuracy: 0.6000\n",
            "Epoch 95/300\n",
            "5/5 - 0s - loss: 0.0238 - accuracy: 0.9400 - val_loss: 0.1496 - val_accuracy: 0.6000\n",
            "Epoch 96/300\n",
            "5/5 - 0s - loss: 0.0183 - accuracy: 0.9547 - val_loss: 0.1613 - val_accuracy: 0.5800\n",
            "Epoch 97/300\n",
            "5/5 - 0s - loss: 0.0169 - accuracy: 0.9627 - val_loss: 0.1572 - val_accuracy: 0.6200\n",
            "Epoch 98/300\n",
            "5/5 - 0s - loss: 0.0142 - accuracy: 0.9693 - val_loss: 0.1608 - val_accuracy: 0.6400\n",
            "Epoch 99/300\n",
            "5/5 - 0s - loss: 0.0157 - accuracy: 0.9587 - val_loss: 0.1740 - val_accuracy: 0.5400\n",
            "Epoch 100/300\n",
            "5/5 - 0s - loss: 0.0144 - accuracy: 0.9680 - val_loss: 0.1534 - val_accuracy: 0.6600\n",
            "Epoch 101/300\n",
            "5/5 - 0s - loss: 0.0137 - accuracy: 0.9680 - val_loss: 0.1561 - val_accuracy: 0.6200\n",
            "Epoch 102/300\n",
            "5/5 - 0s - loss: 0.0129 - accuracy: 0.9707 - val_loss: 0.1563 - val_accuracy: 0.6200\n",
            "Epoch 103/300\n",
            "5/5 - 0s - loss: 0.0159 - accuracy: 0.9600 - val_loss: 0.1566 - val_accuracy: 0.6600\n",
            "Epoch 104/300\n",
            "5/5 - 0s - loss: 0.0203 - accuracy: 0.9533 - val_loss: 0.1692 - val_accuracy: 0.5600\n",
            "Epoch 105/300\n",
            "5/5 - 0s - loss: 0.0162 - accuracy: 0.9587 - val_loss: 0.1689 - val_accuracy: 0.5600\n",
            "Epoch 106/300\n",
            "5/5 - 0s - loss: 0.0135 - accuracy: 0.9653 - val_loss: 0.1605 - val_accuracy: 0.6000\n",
            "Epoch 107/300\n",
            "5/5 - 0s - loss: 0.0131 - accuracy: 0.9707 - val_loss: 0.1767 - val_accuracy: 0.5800\n",
            "Epoch 108/300\n",
            "5/5 - 0s - loss: 0.0199 - accuracy: 0.9520 - val_loss: 0.1754 - val_accuracy: 0.5600\n",
            "Epoch 109/300\n",
            "5/5 - 0s - loss: 0.0301 - accuracy: 0.9133 - val_loss: 0.1620 - val_accuracy: 0.6400\n",
            "Epoch 110/300\n",
            "5/5 - 0s - loss: 0.0306 - accuracy: 0.9200 - val_loss: 0.1651 - val_accuracy: 0.5800\n",
            "Epoch 111/300\n",
            "5/5 - 0s - loss: 0.0276 - accuracy: 0.9227 - val_loss: 0.1604 - val_accuracy: 0.6400\n",
            "Epoch 112/300\n",
            "5/5 - 0s - loss: 0.0158 - accuracy: 0.9640 - val_loss: 0.1509 - val_accuracy: 0.6400\n",
            "Epoch 113/300\n",
            "5/5 - 0s - loss: 0.0176 - accuracy: 0.9547 - val_loss: 0.1587 - val_accuracy: 0.6000\n",
            "Epoch 114/300\n",
            "5/5 - 0s - loss: 0.0205 - accuracy: 0.9480 - val_loss: 0.1554 - val_accuracy: 0.6600\n",
            "Epoch 115/300\n",
            "5/5 - 0s - loss: 0.0222 - accuracy: 0.9373 - val_loss: 0.1613 - val_accuracy: 0.6200\n",
            "Epoch 116/300\n",
            "5/5 - 0s - loss: 0.0260 - accuracy: 0.9360 - val_loss: 0.1511 - val_accuracy: 0.6200\n",
            "Epoch 117/300\n",
            "5/5 - 0s - loss: 0.0236 - accuracy: 0.9427 - val_loss: 0.1620 - val_accuracy: 0.6200\n",
            "Epoch 118/300\n",
            "5/5 - 0s - loss: 0.0198 - accuracy: 0.9507 - val_loss: 0.1854 - val_accuracy: 0.5400\n",
            "Epoch 119/300\n",
            "5/5 - 0s - loss: 0.0229 - accuracy: 0.9467 - val_loss: 0.1632 - val_accuracy: 0.5800\n",
            "Epoch 120/300\n",
            "5/5 - 0s - loss: 0.0163 - accuracy: 0.9640 - val_loss: 0.1794 - val_accuracy: 0.5800\n",
            "Epoch 121/300\n",
            "5/5 - 0s - loss: 0.0258 - accuracy: 0.9387 - val_loss: 0.1870 - val_accuracy: 0.5200\n",
            "Epoch 122/300\n",
            "5/5 - 0s - loss: 0.0213 - accuracy: 0.9400 - val_loss: 0.2003 - val_accuracy: 0.5000\n",
            "Epoch 123/300\n",
            "5/5 - 0s - loss: 0.0168 - accuracy: 0.9547 - val_loss: 0.1624 - val_accuracy: 0.6400\n",
            "Epoch 124/300\n",
            "5/5 - 0s - loss: 0.0154 - accuracy: 0.9653 - val_loss: 0.1659 - val_accuracy: 0.5800\n",
            "Epoch 125/300\n",
            "5/5 - 0s - loss: 0.0173 - accuracy: 0.9560 - val_loss: 0.1813 - val_accuracy: 0.6000\n",
            "Epoch 126/300\n",
            "5/5 - 0s - loss: 0.0207 - accuracy: 0.9427 - val_loss: 0.1699 - val_accuracy: 0.5800\n",
            "Epoch 127/300\n",
            "5/5 - 0s - loss: 0.0191 - accuracy: 0.9467 - val_loss: 0.1660 - val_accuracy: 0.5800\n",
            "Epoch 128/300\n",
            "5/5 - 0s - loss: 0.0147 - accuracy: 0.9640 - val_loss: 0.1641 - val_accuracy: 0.6200\n",
            "Epoch 129/300\n",
            "5/5 - 0s - loss: 0.0168 - accuracy: 0.9627 - val_loss: 0.1590 - val_accuracy: 0.6000\n",
            "Epoch 130/300\n",
            "5/5 - 0s - loss: 0.0150 - accuracy: 0.9693 - val_loss: 0.1604 - val_accuracy: 0.6200\n",
            "Epoch 131/300\n",
            "5/5 - 0s - loss: 0.0147 - accuracy: 0.9707 - val_loss: 0.1587 - val_accuracy: 0.6200\n",
            "Epoch 132/300\n",
            "5/5 - 0s - loss: 0.0097 - accuracy: 0.9773 - val_loss: 0.1612 - val_accuracy: 0.6600\n",
            "Epoch 133/300\n",
            "5/5 - 0s - loss: 0.0112 - accuracy: 0.9693 - val_loss: 0.1624 - val_accuracy: 0.6200\n",
            "Epoch 134/300\n",
            "5/5 - 0s - loss: 0.0121 - accuracy: 0.9720 - val_loss: 0.1603 - val_accuracy: 0.6200\n",
            "Epoch 135/300\n",
            "5/5 - 0s - loss: 0.0142 - accuracy: 0.9693 - val_loss: 0.1630 - val_accuracy: 0.5800\n",
            "Epoch 136/300\n",
            "5/5 - 0s - loss: 0.0135 - accuracy: 0.9720 - val_loss: 0.1723 - val_accuracy: 0.5400\n",
            "Epoch 137/300\n",
            "5/5 - 0s - loss: 0.0170 - accuracy: 0.9573 - val_loss: 0.1596 - val_accuracy: 0.6000\n",
            "Epoch 138/300\n",
            "5/5 - 0s - loss: 0.0178 - accuracy: 0.9493 - val_loss: 0.1525 - val_accuracy: 0.6000\n",
            "Epoch 139/300\n",
            "5/5 - 0s - loss: 0.0170 - accuracy: 0.9600 - val_loss: 0.1591 - val_accuracy: 0.6000\n",
            "Epoch 140/300\n",
            "5/5 - 0s - loss: 0.0121 - accuracy: 0.9733 - val_loss: 0.1708 - val_accuracy: 0.6000\n",
            "Epoch 141/300\n",
            "5/5 - 0s - loss: 0.0127 - accuracy: 0.9693 - val_loss: 0.1657 - val_accuracy: 0.6400\n",
            "Epoch 142/300\n",
            "5/5 - 0s - loss: 0.0144 - accuracy: 0.9653 - val_loss: 0.1631 - val_accuracy: 0.6000\n",
            "Epoch 143/300\n",
            "5/5 - 0s - loss: 0.0125 - accuracy: 0.9640 - val_loss: 0.1838 - val_accuracy: 0.5000\n",
            "Epoch 144/300\n",
            "5/5 - 0s - loss: 0.0143 - accuracy: 0.9640 - val_loss: 0.1652 - val_accuracy: 0.6000\n",
            "Epoch 145/300\n",
            "5/5 - 0s - loss: 0.0110 - accuracy: 0.9747 - val_loss: 0.1757 - val_accuracy: 0.5800\n",
            "Epoch 146/300\n",
            "5/5 - 0s - loss: 0.0129 - accuracy: 0.9680 - val_loss: 0.1839 - val_accuracy: 0.5200\n",
            "Epoch 147/300\n",
            "5/5 - 0s - loss: 0.0123 - accuracy: 0.9720 - val_loss: 0.1783 - val_accuracy: 0.5800\n",
            "Epoch 148/300\n",
            "5/5 - 0s - loss: 0.0304 - accuracy: 0.9227 - val_loss: 0.1837 - val_accuracy: 0.5400\n",
            "Epoch 149/300\n",
            "5/5 - 0s - loss: 0.0212 - accuracy: 0.9440 - val_loss: 0.1657 - val_accuracy: 0.5400\n",
            "Epoch 150/300\n",
            "5/5 - 0s - loss: 0.0162 - accuracy: 0.9600 - val_loss: 0.1535 - val_accuracy: 0.6200\n",
            "Epoch 151/300\n",
            "5/5 - 0s - loss: 0.0157 - accuracy: 0.9600 - val_loss: 0.1619 - val_accuracy: 0.6000\n",
            "Epoch 152/300\n",
            "5/5 - 0s - loss: 0.0229 - accuracy: 0.9400 - val_loss: 0.1715 - val_accuracy: 0.5800\n",
            "Epoch 153/300\n",
            "5/5 - 0s - loss: 0.0237 - accuracy: 0.9373 - val_loss: 0.1688 - val_accuracy: 0.5800\n",
            "Epoch 154/300\n",
            "5/5 - 0s - loss: 0.0202 - accuracy: 0.9467 - val_loss: 0.1623 - val_accuracy: 0.6000\n",
            "Epoch 155/300\n",
            "5/5 - 0s - loss: 0.0134 - accuracy: 0.9680 - val_loss: 0.1528 - val_accuracy: 0.6200\n",
            "Epoch 156/300\n",
            "5/5 - 0s - loss: 0.0143 - accuracy: 0.9640 - val_loss: 0.1691 - val_accuracy: 0.6000\n",
            "Epoch 157/300\n",
            "5/5 - 0s - loss: 0.0146 - accuracy: 0.9627 - val_loss: 0.1785 - val_accuracy: 0.5400\n",
            "Epoch 158/300\n",
            "5/5 - 0s - loss: 0.0140 - accuracy: 0.9667 - val_loss: 0.1602 - val_accuracy: 0.6400\n",
            "Epoch 159/300\n",
            "5/5 - 0s - loss: 0.0106 - accuracy: 0.9760 - val_loss: 0.1647 - val_accuracy: 0.5800\n",
            "Epoch 160/300\n",
            "5/5 - 0s - loss: 0.0103 - accuracy: 0.9747 - val_loss: 0.1675 - val_accuracy: 0.5600\n",
            "Epoch 161/300\n",
            "5/5 - 0s - loss: 0.0114 - accuracy: 0.9693 - val_loss: 0.1757 - val_accuracy: 0.5200\n",
            "Epoch 162/300\n",
            "5/5 - 0s - loss: 0.0330 - accuracy: 0.9133 - val_loss: 0.1956 - val_accuracy: 0.5400\n",
            "Epoch 163/300\n",
            "5/5 - 0s - loss: 0.0314 - accuracy: 0.9080 - val_loss: 0.1833 - val_accuracy: 0.5200\n",
            "Epoch 164/300\n",
            "5/5 - 0s - loss: 0.0232 - accuracy: 0.9467 - val_loss: 0.1477 - val_accuracy: 0.6800\n",
            "Epoch 165/300\n",
            "5/5 - 0s - loss: 0.0143 - accuracy: 0.9653 - val_loss: 0.1742 - val_accuracy: 0.5800\n",
            "Epoch 166/300\n",
            "5/5 - 0s - loss: 0.0152 - accuracy: 0.9627 - val_loss: 0.1705 - val_accuracy: 0.5600\n",
            "Epoch 167/300\n",
            "5/5 - 0s - loss: 0.0174 - accuracy: 0.9600 - val_loss: 0.1639 - val_accuracy: 0.6200\n",
            "Epoch 168/300\n",
            "5/5 - 0s - loss: 0.0149 - accuracy: 0.9587 - val_loss: 0.1574 - val_accuracy: 0.6000\n",
            "Epoch 169/300\n",
            "5/5 - 0s - loss: 0.0166 - accuracy: 0.9600 - val_loss: 0.1727 - val_accuracy: 0.5600\n",
            "Epoch 170/300\n",
            "5/5 - 0s - loss: 0.0152 - accuracy: 0.9627 - val_loss: 0.1782 - val_accuracy: 0.5200\n",
            "Epoch 171/300\n",
            "5/5 - 0s - loss: 0.0127 - accuracy: 0.9720 - val_loss: 0.1598 - val_accuracy: 0.6400\n",
            "Epoch 172/300\n",
            "5/5 - 0s - loss: 0.0143 - accuracy: 0.9667 - val_loss: 0.1570 - val_accuracy: 0.6400\n",
            "Epoch 173/300\n",
            "5/5 - 0s - loss: 0.0215 - accuracy: 0.9440 - val_loss: 0.1707 - val_accuracy: 0.5800\n",
            "Epoch 174/300\n",
            "5/5 - 0s - loss: 0.0347 - accuracy: 0.9040 - val_loss: 0.2016 - val_accuracy: 0.5000\n",
            "Epoch 175/300\n",
            "5/5 - 0s - loss: 0.0387 - accuracy: 0.8987 - val_loss: 0.1675 - val_accuracy: 0.6200\n",
            "Epoch 176/300\n",
            "5/5 - 0s - loss: 0.0329 - accuracy: 0.9160 - val_loss: 0.1590 - val_accuracy: 0.6400\n",
            "Epoch 177/300\n",
            "5/5 - 0s - loss: 0.0194 - accuracy: 0.9467 - val_loss: 0.1559 - val_accuracy: 0.6400\n",
            "Epoch 178/300\n",
            "5/5 - 0s - loss: 0.0113 - accuracy: 0.9747 - val_loss: 0.1276 - val_accuracy: 0.7000\n",
            "Epoch 179/300\n",
            "5/5 - 0s - loss: 0.0102 - accuracy: 0.9760 - val_loss: 0.1563 - val_accuracy: 0.6200\n",
            "Epoch 180/300\n",
            "5/5 - 0s - loss: 0.0098 - accuracy: 0.9773 - val_loss: 0.1508 - val_accuracy: 0.6600\n",
            "Epoch 181/300\n",
            "5/5 - 0s - loss: 0.0088 - accuracy: 0.9773 - val_loss: 0.1502 - val_accuracy: 0.6400\n",
            "Epoch 182/300\n",
            "5/5 - 0s - loss: 0.0077 - accuracy: 0.9813 - val_loss: 0.1453 - val_accuracy: 0.6400\n",
            "Epoch 183/300\n",
            "5/5 - 0s - loss: 0.0080 - accuracy: 0.9787 - val_loss: 0.1630 - val_accuracy: 0.6000\n",
            "Epoch 184/300\n",
            "5/5 - 0s - loss: 0.0080 - accuracy: 0.9827 - val_loss: 0.1565 - val_accuracy: 0.6400\n",
            "Epoch 185/300\n",
            "5/5 - 0s - loss: 0.0093 - accuracy: 0.9787 - val_loss: 0.1586 - val_accuracy: 0.6000\n",
            "Epoch 186/300\n",
            "5/5 - 0s - loss: 0.0095 - accuracy: 0.9773 - val_loss: 0.1527 - val_accuracy: 0.6200\n",
            "Epoch 187/300\n",
            "5/5 - 0s - loss: 0.0109 - accuracy: 0.9747 - val_loss: 0.1547 - val_accuracy: 0.6600\n",
            "Epoch 188/300\n",
            "5/5 - 0s - loss: 0.0093 - accuracy: 0.9760 - val_loss: 0.1650 - val_accuracy: 0.6400\n",
            "Epoch 189/300\n",
            "5/5 - 0s - loss: 0.0085 - accuracy: 0.9827 - val_loss: 0.1625 - val_accuracy: 0.6000\n",
            "Epoch 190/300\n",
            "5/5 - 0s - loss: 0.0089 - accuracy: 0.9773 - val_loss: 0.1608 - val_accuracy: 0.6000\n",
            "Epoch 191/300\n",
            "5/5 - 0s - loss: 0.0094 - accuracy: 0.9733 - val_loss: 0.1671 - val_accuracy: 0.5800\n",
            "Epoch 192/300\n",
            "5/5 - 0s - loss: 0.0113 - accuracy: 0.9667 - val_loss: 0.1815 - val_accuracy: 0.5600\n",
            "Epoch 193/300\n",
            "5/5 - 0s - loss: 0.0090 - accuracy: 0.9760 - val_loss: 0.1550 - val_accuracy: 0.6600\n",
            "Epoch 194/300\n",
            "5/5 - 0s - loss: 0.0083 - accuracy: 0.9773 - val_loss: 0.1697 - val_accuracy: 0.5800\n",
            "Epoch 195/300\n",
            "5/5 - 0s - loss: 0.0124 - accuracy: 0.9693 - val_loss: 0.1645 - val_accuracy: 0.6000\n",
            "Epoch 196/300\n",
            "5/5 - 0s - loss: 0.0101 - accuracy: 0.9720 - val_loss: 0.1578 - val_accuracy: 0.5800\n",
            "Epoch 197/300\n",
            "5/5 - 0s - loss: 0.0104 - accuracy: 0.9707 - val_loss: 0.1806 - val_accuracy: 0.5400\n",
            "Epoch 198/300\n",
            "5/5 - 0s - loss: 0.0077 - accuracy: 0.9813 - val_loss: 0.1531 - val_accuracy: 0.5800\n",
            "Epoch 199/300\n",
            "5/5 - 0s - loss: 0.0083 - accuracy: 0.9773 - val_loss: 0.1646 - val_accuracy: 0.5600\n",
            "Epoch 200/300\n",
            "5/5 - 0s - loss: 0.0080 - accuracy: 0.9760 - val_loss: 0.1554 - val_accuracy: 0.6200\n",
            "Epoch 201/300\n",
            "5/5 - 0s - loss: 0.0073 - accuracy: 0.9800 - val_loss: 0.1497 - val_accuracy: 0.6000\n",
            "Epoch 202/300\n",
            "5/5 - 0s - loss: 0.0094 - accuracy: 0.9760 - val_loss: 0.1681 - val_accuracy: 0.6000\n",
            "Epoch 203/300\n",
            "5/5 - 0s - loss: 0.0094 - accuracy: 0.9773 - val_loss: 0.1539 - val_accuracy: 0.6200\n",
            "Epoch 204/300\n",
            "5/5 - 0s - loss: 0.0105 - accuracy: 0.9733 - val_loss: 0.1552 - val_accuracy: 0.6200\n",
            "Epoch 205/300\n",
            "5/5 - 0s - loss: 0.0078 - accuracy: 0.9787 - val_loss: 0.1531 - val_accuracy: 0.6600\n",
            "Epoch 206/300\n",
            "5/5 - 0s - loss: 0.0089 - accuracy: 0.9773 - val_loss: 0.1646 - val_accuracy: 0.6000\n",
            "Epoch 207/300\n",
            "5/5 - 0s - loss: 0.0093 - accuracy: 0.9760 - val_loss: 0.1627 - val_accuracy: 0.6400\n",
            "Epoch 208/300\n",
            "5/5 - 0s - loss: 0.0088 - accuracy: 0.9760 - val_loss: 0.1585 - val_accuracy: 0.6200\n",
            "Epoch 209/300\n",
            "5/5 - 0s - loss: 0.0072 - accuracy: 0.9800 - val_loss: 0.1628 - val_accuracy: 0.6200\n",
            "Epoch 210/300\n",
            "5/5 - 0s - loss: 0.0083 - accuracy: 0.9733 - val_loss: 0.1549 - val_accuracy: 0.6400\n",
            "Epoch 211/300\n",
            "5/5 - 0s - loss: 0.0074 - accuracy: 0.9813 - val_loss: 0.1680 - val_accuracy: 0.5600\n",
            "Epoch 212/300\n",
            "5/5 - 0s - loss: 0.0086 - accuracy: 0.9773 - val_loss: 0.1509 - val_accuracy: 0.6600\n",
            "Epoch 213/300\n",
            "5/5 - 0s - loss: 0.0097 - accuracy: 0.9747 - val_loss: 0.1629 - val_accuracy: 0.5400\n",
            "Epoch 214/300\n",
            "5/5 - 0s - loss: 0.0082 - accuracy: 0.9813 - val_loss: 0.1628 - val_accuracy: 0.6200\n",
            "Epoch 215/300\n",
            "5/5 - 0s - loss: 0.0079 - accuracy: 0.9760 - val_loss: 0.1729 - val_accuracy: 0.6000\n",
            "Epoch 216/300\n",
            "5/5 - 0s - loss: 0.0104 - accuracy: 0.9760 - val_loss: 0.1634 - val_accuracy: 0.6200\n",
            "Epoch 217/300\n",
            "5/5 - 0s - loss: 0.0092 - accuracy: 0.9760 - val_loss: 0.1470 - val_accuracy: 0.6200\n",
            "Epoch 218/300\n",
            "5/5 - 0s - loss: 0.0110 - accuracy: 0.9747 - val_loss: 0.1940 - val_accuracy: 0.5000\n",
            "Epoch 219/300\n",
            "5/5 - 0s - loss: 0.0168 - accuracy: 0.9547 - val_loss: 0.1962 - val_accuracy: 0.5600\n",
            "Epoch 220/300\n",
            "5/5 - 0s - loss: 0.0249 - accuracy: 0.9360 - val_loss: 0.1817 - val_accuracy: 0.5400\n",
            "Epoch 221/300\n",
            "5/5 - 0s - loss: 0.0173 - accuracy: 0.9600 - val_loss: 0.1585 - val_accuracy: 0.6200\n",
            "Epoch 222/300\n",
            "5/5 - 0s - loss: 0.0152 - accuracy: 0.9587 - val_loss: 0.1547 - val_accuracy: 0.6400\n",
            "Epoch 223/300\n",
            "5/5 - 0s - loss: 0.0122 - accuracy: 0.9680 - val_loss: 0.1675 - val_accuracy: 0.5800\n",
            "Epoch 224/300\n",
            "5/5 - 0s - loss: 0.0158 - accuracy: 0.9587 - val_loss: 0.1743 - val_accuracy: 0.5800\n",
            "Epoch 225/300\n",
            "5/5 - 0s - loss: 0.0264 - accuracy: 0.9307 - val_loss: 0.1723 - val_accuracy: 0.6000\n",
            "Epoch 226/300\n",
            "5/5 - 0s - loss: 0.0186 - accuracy: 0.9493 - val_loss: 0.1544 - val_accuracy: 0.6600\n",
            "Epoch 227/300\n",
            "5/5 - 0s - loss: 0.0208 - accuracy: 0.9453 - val_loss: 0.1584 - val_accuracy: 0.6200\n",
            "Epoch 228/300\n",
            "5/5 - 0s - loss: 0.0154 - accuracy: 0.9627 - val_loss: 0.1846 - val_accuracy: 0.5600\n",
            "Epoch 229/300\n",
            "5/5 - 0s - loss: 0.0182 - accuracy: 0.9520 - val_loss: 0.1506 - val_accuracy: 0.6000\n",
            "Epoch 230/300\n",
            "5/5 - 0s - loss: 0.0340 - accuracy: 0.9107 - val_loss: 0.1808 - val_accuracy: 0.5600\n",
            "Epoch 231/300\n",
            "5/5 - 0s - loss: 0.0509 - accuracy: 0.8627 - val_loss: 0.1458 - val_accuracy: 0.6200\n",
            "Epoch 232/300\n",
            "5/5 - 0s - loss: 0.0595 - accuracy: 0.8413 - val_loss: 0.1843 - val_accuracy: 0.6000\n",
            "Epoch 233/300\n",
            "5/5 - 0s - loss: 0.0426 - accuracy: 0.8893 - val_loss: 0.1714 - val_accuracy: 0.6400\n",
            "Epoch 234/300\n",
            "5/5 - 0s - loss: 0.0246 - accuracy: 0.9360 - val_loss: 0.1745 - val_accuracy: 0.5800\n",
            "Epoch 235/300\n",
            "5/5 - 0s - loss: 0.0236 - accuracy: 0.9387 - val_loss: 0.1533 - val_accuracy: 0.6600\n",
            "Epoch 236/300\n",
            "5/5 - 0s - loss: 0.0218 - accuracy: 0.9427 - val_loss: 0.1670 - val_accuracy: 0.5600\n",
            "Epoch 237/300\n",
            "5/5 - 0s - loss: 0.0146 - accuracy: 0.9613 - val_loss: 0.1454 - val_accuracy: 0.6400\n",
            "Epoch 238/300\n",
            "5/5 - 0s - loss: 0.0110 - accuracy: 0.9720 - val_loss: 0.1538 - val_accuracy: 0.6000\n",
            "Epoch 239/300\n",
            "5/5 - 0s - loss: 0.0081 - accuracy: 0.9787 - val_loss: 0.1594 - val_accuracy: 0.6400\n",
            "Epoch 240/300\n",
            "5/5 - 0s - loss: 0.0079 - accuracy: 0.9800 - val_loss: 0.1538 - val_accuracy: 0.6400\n",
            "Epoch 241/300\n",
            "5/5 - 0s - loss: 0.0082 - accuracy: 0.9813 - val_loss: 0.1608 - val_accuracy: 0.6200\n",
            "Epoch 242/300\n",
            "5/5 - 0s - loss: 0.0105 - accuracy: 0.9747 - val_loss: 0.1576 - val_accuracy: 0.6200\n",
            "Epoch 243/300\n",
            "5/5 - 0s - loss: 0.0097 - accuracy: 0.9760 - val_loss: 0.1690 - val_accuracy: 0.6200\n",
            "Epoch 244/300\n",
            "5/5 - 0s - loss: 0.0110 - accuracy: 0.9720 - val_loss: 0.1531 - val_accuracy: 0.6000\n",
            "Epoch 245/300\n",
            "5/5 - 0s - loss: 0.0096 - accuracy: 0.9760 - val_loss: 0.2036 - val_accuracy: 0.5200\n",
            "Epoch 246/300\n",
            "5/5 - 0s - loss: 0.0425 - accuracy: 0.8960 - val_loss: 0.1817 - val_accuracy: 0.5400\n",
            "Epoch 247/300\n",
            "5/5 - 0s - loss: 0.0225 - accuracy: 0.9453 - val_loss: 0.1536 - val_accuracy: 0.6400\n",
            "Epoch 248/300\n",
            "5/5 - 0s - loss: 0.0192 - accuracy: 0.9480 - val_loss: 0.1820 - val_accuracy: 0.5800\n",
            "Epoch 249/300\n",
            "5/5 - 0s - loss: 0.0226 - accuracy: 0.9440 - val_loss: 0.1799 - val_accuracy: 0.5600\n",
            "Epoch 250/300\n",
            "5/5 - 0s - loss: 0.0188 - accuracy: 0.9533 - val_loss: 0.1602 - val_accuracy: 0.6200\n",
            "Epoch 251/300\n",
            "5/5 - 0s - loss: 0.0115 - accuracy: 0.9707 - val_loss: 0.1538 - val_accuracy: 0.6200\n",
            "Epoch 252/300\n",
            "5/5 - 0s - loss: 0.0090 - accuracy: 0.9773 - val_loss: 0.1551 - val_accuracy: 0.6000\n",
            "Epoch 253/300\n",
            "5/5 - 0s - loss: 0.0082 - accuracy: 0.9813 - val_loss: 0.1672 - val_accuracy: 0.6200\n",
            "Epoch 254/300\n",
            "5/5 - 0s - loss: 0.0076 - accuracy: 0.9813 - val_loss: 0.1500 - val_accuracy: 0.5800\n",
            "Epoch 255/300\n",
            "5/5 - 0s - loss: 0.0083 - accuracy: 0.9773 - val_loss: 0.1585 - val_accuracy: 0.5600\n",
            "Epoch 256/300\n",
            "5/5 - 0s - loss: 0.0077 - accuracy: 0.9760 - val_loss: 0.1713 - val_accuracy: 0.6200\n",
            "Epoch 257/300\n",
            "5/5 - 0s - loss: 0.0070 - accuracy: 0.9813 - val_loss: 0.1657 - val_accuracy: 0.6200\n",
            "Epoch 258/300\n",
            "5/5 - 0s - loss: 0.0084 - accuracy: 0.9773 - val_loss: 0.1717 - val_accuracy: 0.5800\n",
            "Epoch 259/300\n",
            "5/5 - 0s - loss: 0.0089 - accuracy: 0.9747 - val_loss: 0.1588 - val_accuracy: 0.6000\n",
            "Epoch 260/300\n",
            "5/5 - 0s - loss: 0.0079 - accuracy: 0.9773 - val_loss: 0.1443 - val_accuracy: 0.6600\n",
            "Epoch 261/300\n",
            "5/5 - 0s - loss: 0.0077 - accuracy: 0.9773 - val_loss: 0.1645 - val_accuracy: 0.5800\n",
            "Epoch 262/300\n",
            "5/5 - 0s - loss: 0.0090 - accuracy: 0.9773 - val_loss: 0.1525 - val_accuracy: 0.6200\n",
            "Epoch 263/300\n",
            "5/5 - 0s - loss: 0.0069 - accuracy: 0.9800 - val_loss: 0.1604 - val_accuracy: 0.6000\n",
            "Epoch 264/300\n",
            "5/5 - 0s - loss: 0.0073 - accuracy: 0.9800 - val_loss: 0.1596 - val_accuracy: 0.5800\n",
            "Epoch 265/300\n",
            "5/5 - 0s - loss: 0.0067 - accuracy: 0.9827 - val_loss: 0.1691 - val_accuracy: 0.6000\n",
            "Epoch 266/300\n",
            "5/5 - 0s - loss: 0.0076 - accuracy: 0.9787 - val_loss: 0.1704 - val_accuracy: 0.5800\n",
            "Epoch 267/300\n",
            "5/5 - 0s - loss: 0.0102 - accuracy: 0.9720 - val_loss: 0.1715 - val_accuracy: 0.5800\n",
            "Epoch 268/300\n",
            "5/5 - 0s - loss: 0.0084 - accuracy: 0.9760 - val_loss: 0.1657 - val_accuracy: 0.5400\n",
            "Epoch 269/300\n",
            "5/5 - 0s - loss: 0.0323 - accuracy: 0.9187 - val_loss: 0.1662 - val_accuracy: 0.6400\n",
            "Epoch 270/300\n",
            "5/5 - 0s - loss: 0.0258 - accuracy: 0.9347 - val_loss: 0.1799 - val_accuracy: 0.5800\n",
            "Epoch 271/300\n",
            "5/5 - 0s - loss: 0.0452 - accuracy: 0.8787 - val_loss: 0.2368 - val_accuracy: 0.4200\n",
            "Epoch 272/300\n",
            "5/5 - 0s - loss: 0.0541 - accuracy: 0.8627 - val_loss: 0.1863 - val_accuracy: 0.5800\n",
            "Epoch 273/300\n",
            "5/5 - 0s - loss: 0.0474 - accuracy: 0.8840 - val_loss: 0.1806 - val_accuracy: 0.6000\n",
            "Epoch 274/300\n",
            "5/5 - 0s - loss: 0.0392 - accuracy: 0.8973 - val_loss: 0.1477 - val_accuracy: 0.6800\n",
            "Epoch 275/300\n",
            "5/5 - 0s - loss: 0.0342 - accuracy: 0.9080 - val_loss: 0.1647 - val_accuracy: 0.5600\n",
            "Epoch 276/300\n",
            "5/5 - 0s - loss: 0.0230 - accuracy: 0.9333 - val_loss: 0.1577 - val_accuracy: 0.6000\n",
            "Epoch 277/300\n",
            "5/5 - 0s - loss: 0.0191 - accuracy: 0.9533 - val_loss: 0.1731 - val_accuracy: 0.6000\n",
            "Epoch 278/300\n",
            "5/5 - 0s - loss: 0.0122 - accuracy: 0.9693 - val_loss: 0.1603 - val_accuracy: 0.6200\n",
            "Epoch 279/300\n",
            "5/5 - 0s - loss: 0.0126 - accuracy: 0.9667 - val_loss: 0.1603 - val_accuracy: 0.6200\n",
            "Epoch 280/300\n",
            "5/5 - 0s - loss: 0.0110 - accuracy: 0.9720 - val_loss: 0.1648 - val_accuracy: 0.6200\n",
            "Epoch 281/300\n",
            "5/5 - 0s - loss: 0.0120 - accuracy: 0.9680 - val_loss: 0.1592 - val_accuracy: 0.6000\n",
            "Epoch 282/300\n",
            "5/5 - 0s - loss: 0.0112 - accuracy: 0.9747 - val_loss: 0.1433 - val_accuracy: 0.6400\n",
            "Epoch 283/300\n",
            "5/5 - 0s - loss: 0.0135 - accuracy: 0.9680 - val_loss: 0.1855 - val_accuracy: 0.5800\n",
            "Epoch 284/300\n",
            "5/5 - 0s - loss: 0.0099 - accuracy: 0.9720 - val_loss: 0.1732 - val_accuracy: 0.6000\n",
            "Epoch 285/300\n",
            "5/5 - 0s - loss: 0.0134 - accuracy: 0.9640 - val_loss: 0.1544 - val_accuracy: 0.6600\n",
            "Epoch 286/300\n",
            "5/5 - 0s - loss: 0.0159 - accuracy: 0.9600 - val_loss: 0.1977 - val_accuracy: 0.5400\n",
            "Epoch 287/300\n",
            "5/5 - 0s - loss: 0.0235 - accuracy: 0.9400 - val_loss: 0.1818 - val_accuracy: 0.5600\n",
            "Epoch 288/300\n",
            "5/5 - 0s - loss: 0.0567 - accuracy: 0.8520 - val_loss: 0.1723 - val_accuracy: 0.6000\n",
            "Epoch 289/300\n",
            "5/5 - 0s - loss: 0.0419 - accuracy: 0.8920 - val_loss: 0.1524 - val_accuracy: 0.6000\n",
            "Epoch 290/300\n",
            "5/5 - 0s - loss: 0.0239 - accuracy: 0.9347 - val_loss: 0.1654 - val_accuracy: 0.5800\n",
            "Epoch 291/300\n",
            "5/5 - 0s - loss: 0.0150 - accuracy: 0.9600 - val_loss: 0.1612 - val_accuracy: 0.5600\n",
            "Epoch 292/300\n",
            "5/5 - 0s - loss: 0.0132 - accuracy: 0.9680 - val_loss: 0.1712 - val_accuracy: 0.5800\n",
            "Epoch 293/300\n",
            "5/5 - 0s - loss: 0.0118 - accuracy: 0.9680 - val_loss: 0.1680 - val_accuracy: 0.6200\n",
            "Epoch 294/300\n",
            "5/5 - 0s - loss: 0.0101 - accuracy: 0.9707 - val_loss: 0.1594 - val_accuracy: 0.5800\n",
            "Epoch 295/300\n",
            "5/5 - 0s - loss: 0.0093 - accuracy: 0.9747 - val_loss: 0.1585 - val_accuracy: 0.6400\n",
            "Epoch 296/300\n",
            "5/5 - 0s - loss: 0.0096 - accuracy: 0.9720 - val_loss: 0.1751 - val_accuracy: 0.5600\n",
            "Epoch 297/300\n",
            "5/5 - 0s - loss: 0.0083 - accuracy: 0.9813 - val_loss: 0.1705 - val_accuracy: 0.6000\n",
            "Epoch 298/300\n",
            "5/5 - 0s - loss: 0.0093 - accuracy: 0.9707 - val_loss: 0.1622 - val_accuracy: 0.6200\n",
            "Epoch 299/300\n",
            "5/5 - 0s - loss: 0.0068 - accuracy: 0.9827 - val_loss: 0.1503 - val_accuracy: 0.6200\n",
            "Epoch 300/300\n",
            "5/5 - 0s - loss: 0.0078 - accuracy: 0.9787 - val_loss: 0.1531 - val_accuracy: 0.6400\n",
            "@ Deep Learning>  LSTM Train\n",
            "Finish\n"
          ],
          "name": "stdout"
        }
      ]
    },
    {
      "cell_type": "code",
      "metadata": {
        "id": "nHGrFRs-26Bx"
      },
      "source": [
        "def getNameLabelsVal(count: int):\n",
        "  return names[0: count], labels[0: count]"
      ],
      "execution_count": null,
      "outputs": []
    },
    {
      "cell_type": "code",
      "metadata": {
        "id": "7QytHZgJ274b",
        "outputId": "8b5f0fd3-4831-4ee4-bdc3-75a76fe4b65b",
        "colab": {
          "base_uri": "https://localhost:8080/"
        }
      },
      "source": [
        "namesVald, labelsVald = getNameLabelsVal(100)\n",
        "\n",
        "print(namesVald)\n",
        "print(len(namesVald))"
      ],
      "execution_count": null,
      "outputs": [
        {
          "output_type": "stream",
          "text": [
            "('/nt/fi_nt_007.avi', '/da/fi_da_073.avi', '/nt/fi_nt_010.avi', '/da/fi_da_060.avi', '/da/da8_035_002.avi', '/nt/fi_nt_042.avi', '/dn/dn4_068_006.avi', '/dn/dn1_132_002.avi', '/dn/dn2_012_001.avi', '/dn/dn4_068_009.avi', '/nt/fi_nt029.avi', '/dn/dn1_123_006.avi', '/dn/dn1_131_001.avi', '/da/fi_da_071.avi', '/dn/dn2_007_003.avi', '/dn/dn2_003_001.avi', '/no/no_197.avi', '/da/da5_092_002.avi', '/nt/fi_nt026_5.avi', '/da/fi_da_092.avi', '/da/da9_163_004_15F.avi', '/dn/dn3_060_007.avi', '/nt/fi_nt021.avi', '/no/no_027.avi', '/nt/fi_nt049.avi', '/nt/nt2_007_001.avi', '/no/no_183.avi', '/nt/nt4_072_003.avi', '/no/no_028.avi', '/da/da5_098_002.avi', '/da/da5_107_012.avi', '/dn/dn10_138_010.avi', '/dn/dn1_123_001.avi', '/nt/nt2_012_001_20F.avi', '/da/fi_da_044.avi', '/dn/dn3_048_001.avi', '/da/da4_071_004.avi', '/dn/dn1_130_001.avi', '/da/da5_098_005.avi', '/nt/fi_nt_045.avi', '/da/fi_da_065.avi', '/nt/fi_nt_051.avi', '/da/da5_092_003.avi', '/da/da4_067_001.avi', '/nt/fi_nt016.avi', '/da/da5_109_001_15F.avi', '/nt/nt5_107_002.avi', '/dn/dn3_056_001.avi', '/da/da7_193_005.avi', '/da/da5_098_001.avi', '/da/da8_033_003.avi', '/nt/nt8_039_002.avi', '/nt/nt5_108_001_20F.avi', '/da/fi_da020.avi', '/no/no_049.avi', '/no/no_022.avi', '/dn/dn10_138_023.avi', '/dn/dn4_071_002.avi', '/no/no_114.avi', '/dn/dn1_120_002.avi', '/no/no_078.avi', '/nt/nt9_170_003.avi', '/dn/dn10_138_012.avi', '/no/no_157.avi', '/no/no_082.avi', '/da/da6_208_002.avi', '/no/no_054.avi', '/no/no_015.avi', '/dn/dn1_118_001.avi', '/da/da6_203_004.avi', '/nt/nt10_138_007.avi', '/dn/dn3_050_002.avi', '/da/da5_107_003.avi', '/nt/nt3_045_002.avi', '/no/no_196.avi', '/da/da4_067_004.avi', '/dn/dn10_138_019.avi', '/dn/dn10_138_004.avi', '/no/no_012.avi', '/nt/fi_nt030.avi', '/nt/nt2_009_002.avi', '/da/fi_da_070.avi', '/nt/nt5_107_004.avi', '/nt/fi_nt056.avi', '/dn/dn3_055_005.avi', '/da/da8_033_002.avi', '/nt/nt1_118_001.avi', '/dn/dn3_060_005.avi', '/dn/dn10_143_019.avi', '/nt/fi_nt_053.avi', '/dn/dn10_138_015.avi', '/nt/fi_nt_052.avi', '/da/da2_002_001.avi', '/dn/dn1_123_005.avi', '/no/no_101.avi', '/dn/dn10_143_009.avi', '/no/no_047.avi', '/dn/dn4_067_010.avi', '/no/no_160.avi', '/nt/fi_nt013_5.avi')\n",
            "100\n"
          ],
          "name": "stdout"
        }
      ]
    },
    {
      "cell_type": "code",
      "metadata": {
        "id": "ksUuzsXs3ATz"
      },
      "source": [
        "def getValdSet_ValdLabelSet(numItem: int):\n",
        "  count = 0\n",
        "  valdSet = []\n",
        "  valdLabel = []\n",
        "  while count < numItem:\n",
        "    itemVald = getTransferValue(pathVideoOrListFrame= DIR_INPUT_TRAIN + namesVald[count])\n",
        "    itemLabel = onesHotLabel(label= labelsVald[count])\n",
        "\n",
        "    valdSet.append(itemVald)\n",
        "    valdLabel.append(itemLabel[0])\n",
        "\n",
        "    fun_print_process(count= count, max= numItem, mess= 'Video frame throw into VGG16 Model Processing: ')\n",
        "    count += 1\n",
        "\n",
        "  return valdSet, valdLabel"
      ],
      "execution_count": null,
      "outputs": []
    },
    {
      "cell_type": "code",
      "metadata": {
        "id": "zXiL8BLw3LIV",
        "outputId": "36b0878a-bec0-4626-8984-f6edb94e27d8",
        "colab": {
          "base_uri": "https://localhost:8080/"
        }
      },
      "source": [
        "valdSet, valdLabelSet = getValdSet_ValdLabelSet(numItem= len(namesVald))\n",
        "fun_print(name= 'Get transfer value', value= 'Finish')"
      ],
      "execution_count": null,
      "outputs": [
        {
          "output_type": "stream",
          "text": [
            " - Video frame throw into VGG16 Model Processing:  [99.0%]@ Deep Learning>  Get transfer value\n",
            "Finish\n"
          ],
          "name": "stdout"
        }
      ]
    },
    {
      "cell_type": "code",
      "metadata": {
        "id": "DaKl99dd3TtG",
        "outputId": "4b001896-7904-48e0-dd44-f06ff87616f1",
        "colab": {
          "base_uri": "https://localhost:8080/"
        }
      },
      "source": [
        "result = model.evaluate(np.array(valdSet), np.array(valdLabelSet))"
      ],
      "execution_count": null,
      "outputs": [
        {
          "output_type": "stream",
          "text": [
            "4/4 [==============================] - 0s 8ms/step - loss: 0.0017 - accuracy: 1.0000\n"
          ],
          "name": "stdout"
        }
      ]
    },
    {
      "cell_type": "code",
      "metadata": {
        "id": "uVdBqRjo3V3w",
        "outputId": "ba3a3b68-77fd-4dcd-8fbb-88a313f74ae9",
        "colab": {
          "base_uri": "https://localhost:8080/"
        }
      },
      "source": [
        "for name, value in zip(model.metrics_names, result):\n",
        "  print(name, value)"
      ],
      "execution_count": null,
      "outputs": [
        {
          "output_type": "stream",
          "text": [
            "loss 0.0016936431638896465\n",
            "accuracy 1.0\n"
          ],
          "name": "stdout"
        }
      ]
    },
    {
      "cell_type": "code",
      "metadata": {
        "id": "zj4C9ssxzAEC",
        "outputId": "695f0892-5d1c-416d-8560-4b8a7cba580f",
        "colab": {
          "base_uri": "https://localhost:8080/",
          "height": 641
        }
      },
      "source": [
        "plt.plot(history.history['accuracy'])\n",
        "plt.plot(history.history['val_accuracy'])\n",
        "plt.title('model accuracy')\n",
        "plt.ylabel('accuracy')\n",
        "plt.xlabel('epoch')\n",
        "plt.legend(['train', 'validation'], loc='upper left')\n",
        "plt.savefig('destination_path.eps', format='eps', dpi=1000)\n",
        "plt.show()\n",
        "# summarize history for loss\n",
        "plt.plot(history.history['loss'])\n",
        "plt.plot(history.history['val_loss'])\n",
        "plt.title('model loss')\n",
        "plt.ylabel('loss')\n",
        "plt.xlabel('epoch')\n",
        "plt.legend(['train', 'validation'], loc='upper left')\n",
        "plt.savefig('destination_path1.eps', format='eps', dpi=1000)\n",
        "plt.show()"
      ],
      "execution_count": null,
      "outputs": [
        {
          "output_type": "stream",
          "text": [
            "The PostScript backend does not support transparency; partially transparent artists will be rendered opaque.\n",
            "The PostScript backend does not support transparency; partially transparent artists will be rendered opaque.\n"
          ],
          "name": "stderr"
        },
        {
          "output_type": "display_data",
          "data": {
            "image/png": "[encoded data removed]",
            "text/plain": [
              "<Figure size 432x288 with 1 Axes>"
            ]
          },
          "metadata": {
            "tags": [],
            "needs_background": "light"
          }
        },
        {
          "output_type": "stream",
          "text": [
            "The PostScript backend does not support transparency; partially transparent artists will be rendered opaque.\n",
            "The PostScript backend does not support transparency; partially transparent artists will be rendered opaque.\n"
          ],
          "name": "stderr"
        },
        {
          "output_type": "display_data",
          "data": {
            "image/png": "[encoded data removed]",
            "text/plain": [
              "<Figure size 432x288 with 1 Axes>"
            ]
          },
          "metadata": {
            "tags": [],
            "needs_background": "light"
          }
        }
      ]
    }
  ]
}